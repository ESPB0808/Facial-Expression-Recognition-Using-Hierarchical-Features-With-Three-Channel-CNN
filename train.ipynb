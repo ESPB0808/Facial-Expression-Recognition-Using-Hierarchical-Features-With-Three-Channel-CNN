{
 "cells": [
  {
   "cell_type": "code",
   "execution_count": 61,
   "metadata": {},
   "outputs": [],
   "source": [
    "import cv2\n",
    "import os\n",
    "import tensorflow as tf\n",
    "import matplotlib.pyplot as plt\n",
    "from keras.models import Sequential, Model\n",
    "from keras.layers import Conv2D, MaxPooling2D, Dense, Dropout, Flatten, Input, Concatenate\n",
    "from keras.preprocessing.image import ImageDataGenerator\n",
    "from keras.utils import plot_model\n",
    "from keras import backend as K"
   ]
  },
  {
   "cell_type": "code",
   "execution_count": 62,
   "metadata": {},
   "outputs": [],
   "source": [
    "face_train_gen = ImageDataGenerator(\n",
    "    rescale=1./255,\n",
    "    horizontal_flip=True,\n",
    "    brightness_range=(0.5, 0.6),\n",
    ")\n",
    "\n",
    "eyes_train_gen = ImageDataGenerator(\n",
    "    rescale=1./255,\n",
    "    horizontal_flip=True,\n",
    "    brightness_range=(0.5, 0.6),\n",
    ")\n",
    "\n",
    "mouth_train_gen = ImageDataGenerator(\n",
    "    rescale=1./255,\n",
    "    horizontal_flip=True,\n",
    "    brightness_range=(0.5, 0.6),\n",
    ")\n",
    "\n",
    "face_test_gen = ImageDataGenerator(\n",
    "    rescale=1./255,\n",
    "    horizontal_flip=True,\n",
    "    brightness_range=(0.5, 0.6),\n",
    ")\n",
    "\n",
    "eyes_test_gen = ImageDataGenerator(\n",
    "    rescale=1./255,\n",
    "    horizontal_flip=True,\n",
    "    brightness_range=(0.5, 0.6),\n",
    ")\n",
    "\n",
    "mouth_test_gen = ImageDataGenerator(\n",
    "    rescale=1./255,\n",
    "    horizontal_flip=True,\n",
    "    brightness_range=(0.5, 0.6),\n",
    ")"
   ]
  },
  {
   "cell_type": "code",
   "execution_count": 63,
   "metadata": {},
   "outputs": [
    {
     "name": "stdout",
     "output_type": "stream",
     "text": [
      "Found 776 images belonging to 7 classes.\n"
     ]
    }
   ],
   "source": [
    "face_train_generator = face_train_gen.flow_from_directory(\n",
    "    'data/train/face_train/',\n",
    "    target_size=(38, 38),\n",
    "    batch_size=64,\n",
    "    color_mode=\"grayscale\",\n",
    "    class_mode=\"categorical\"\n",
    ")\n",
    "\n",
    "# face_train_generator = tf.keras.utils.image_dataset_from_directory(\n",
    "#     'data/train/face_train/',\n",
    "#     image_size=(38, 38),\n",
    "#     batch_size=64,\n",
    "#     color_mode=\"grayscale\",\n",
    "#     label_mode=\"categorical\"\n",
    "# )"
   ]
  },
  {
   "cell_type": "code",
   "execution_count": 64,
   "metadata": {},
   "outputs": [
    {
     "name": "stdout",
     "output_type": "stream",
     "text": [
      "Found 777 images belonging to 7 classes.\n"
     ]
    }
   ],
   "source": [
    "eyes_train_generator = eyes_train_gen.flow_from_directory(\n",
    "    'data/train/eyes_train/',\n",
    "    target_size=(30, 62),\n",
    "    batch_size=64,\n",
    "    color_mode=\"grayscale\",\n",
    "    class_mode=\"categorical\"\n",
    ")"
   ]
  },
  {
   "cell_type": "code",
   "execution_count": 65,
   "metadata": {},
   "outputs": [
    {
     "name": "stdout",
     "output_type": "stream",
     "text": [
      "Found 769 images belonging to 7 classes.\n"
     ]
    }
   ],
   "source": [
    "mouth_train_generator = mouth_train_gen.flow_from_directory(\n",
    "    'data/train/mouth_train/',\n",
    "    target_size=(30, 38),\n",
    "    batch_size=64,\n",
    "    color_mode=\"grayscale\",\n",
    "    class_mode=\"categorical\"\n",
    ")"
   ]
  },
  {
   "cell_type": "code",
   "execution_count": 66,
   "metadata": {},
   "outputs": [
    {
     "name": "stdout",
     "output_type": "stream",
     "text": [
      "Found 181 images belonging to 7 classes.\n"
     ]
    }
   ],
   "source": [
    "face_valid_generator = face_test_gen.flow_from_directory(\n",
    "    'data/test/face_test/',\n",
    "    target_size=(38, 38),\n",
    "    batch_size=64,\n",
    "    color_mode=\"grayscale\",\n",
    "    class_mode=\"categorical\"\n",
    ")\n",
    "\n",
    "# face_valid_generator = tf.keras.utils.image_dataset_from_directory(\n",
    "#     'data/test/face_test/',\n",
    "#     image_size=(38, 38),\n",
    "#     batch_size=64,\n",
    "#     color_mode=\"grayscale\",\n",
    "#     label_mode=\"categorical\"\n",
    "# )"
   ]
  },
  {
   "cell_type": "code",
   "execution_count": 67,
   "metadata": {},
   "outputs": [
    {
     "name": "stdout",
     "output_type": "stream",
     "text": [
      "Found 181 images belonging to 7 classes.\n"
     ]
    }
   ],
   "source": [
    "eyes_valid_generator = eyes_test_gen.flow_from_directory(\n",
    "    'data/test/eyes_test/',\n",
    "    target_size=(30, 62),\n",
    "    batch_size=64,\n",
    "    color_mode=\"grayscale\",\n",
    "    class_mode=\"categorical\"\n",
    ")"
   ]
  },
  {
   "cell_type": "code",
   "execution_count": 68,
   "metadata": {},
   "outputs": [
    {
     "name": "stdout",
     "output_type": "stream",
     "text": [
      "Found 181 images belonging to 7 classes.\n"
     ]
    }
   ],
   "source": [
    "mouth_valid_generator = mouth_test_gen.flow_from_directory(\n",
    "    'data/test/mouth_test/',\n",
    "    target_size=(30, 38),\n",
    "    batch_size=64,\n",
    "    color_mode=\"grayscale\",\n",
    "    class_mode=\"categorical\"\n",
    ")"
   ]
  },
  {
   "cell_type": "code",
   "execution_count": 69,
   "metadata": {},
   "outputs": [
    {
     "name": "stdout",
     "output_type": "stream",
     "text": [
      "Model: \"sequential_8\"\n",
      "_________________________________________________________________\n",
      " Layer (type)                Output Shape              Param #   \n",
      "=================================================================\n",
      " conv_1 (Conv2D)             (None, 36, 36, 6)         60        \n",
      "                                                                 \n",
      " pool_1 (MaxPooling2D)       (None, 18, 18, 6)         0         \n",
      "                                                                 \n",
      " conv_2 (Conv2D)             (None, 16, 16, 16)        880       \n",
      "                                                                 \n",
      " pool_2 (MaxPooling2D)       (None, 8, 8, 16)          0         \n",
      "                                                                 \n",
      " conv_3 (Conv2D)             (None, 6, 6, 32)          4640      \n",
      "                                                                 \n",
      " pool_3 (MaxPooling2D)       (None, 3, 3, 32)          0         \n",
      "                                                                 \n",
      " face_flatten (Flatten)      (None, 288)               0         \n",
      "                                                                 \n",
      " dense_16 (Dense)            (None, 1024)              295936    \n",
      "                                                                 \n",
      " dropout_8 (Dropout)         (None, 1024)              0         \n",
      "                                                                 \n",
      " dense_17 (Dense)            (None, 7)                 7175      \n",
      "                                                                 \n",
      "=================================================================\n",
      "Total params: 308691 (1.18 MB)\n",
      "Trainable params: 308691 (1.18 MB)\n",
      "Non-trainable params: 0 (0.00 Byte)\n",
      "_________________________________________________________________\n"
     ]
    }
   ],
   "source": [
    "#mean\n",
    "\n",
    "face_emotion_model = Sequential()\n",
    "\n",
    "face_emotion_model.add(Conv2D(6, kernel_size=(3, 3), activation='relu', input_shape=(38, 38, 1), name=\"conv_1\"))\n",
    "face_emotion_model.add(MaxPooling2D(pool_size=(2, 2), name=\"pool_1\"))\n",
    "\n",
    "face_emotion_model.add(Conv2D(16, kernel_size=(3, 3), activation='relu', input_shape=(18, 18, 6), name=\"conv_2\"))\n",
    "face_emotion_model.add(MaxPooling2D(pool_size=(2, 2), name=\"pool_2\"))\n",
    "\n",
    "face_emotion_model.add(Conv2D(32, kernel_size=(3, 3), activation='relu', input_shape=(8, 8, 1), name=\"conv_3\"))\n",
    "face_emotion_model.add(MaxPooling2D(pool_size=(2, 2), name=\"pool_3\"))\n",
    "\n",
    "face_emotion_model.add(Flatten(name=\"face_flatten\"))\n",
    "\n",
    "face_emotion_model.add(Dense(1024, activation='relu'))\n",
    "face_emotion_model.add(Dropout(0.25))\n",
    "\n",
    "face_emotion_model.add(Dense(7, activation='softmax'))\n",
    "\n",
    "face_emotion_model.compile(loss='categorical_crossentropy', optimizer=tf.keras.optimizers.legacy.Adam(learning_rate=0.0001, decay=1e-6), metrics=['accuracy'])\n",
    "\n",
    "face_emotion_model.summary()"
   ]
  },
  {
   "cell_type": "code",
   "execution_count": 118,
   "metadata": {},
   "outputs": [
    {
     "name": "stdout",
     "output_type": "stream",
     "text": [
      "Epoch 1/50\n",
      "12/12 [==============================] - 0s 31ms/step - loss: 0.3278 - accuracy: 0.9073 - val_loss: 2.3709 - val_accuracy: 0.3594\n",
      "Epoch 2/50\n",
      "12/12 [==============================] - 0s 26ms/step - loss: 0.3321 - accuracy: 0.9010 - val_loss: 2.4591 - val_accuracy: 0.2734\n",
      "Epoch 3/50\n",
      "12/12 [==============================] - 0s 27ms/step - loss: 0.3388 - accuracy: 0.9045 - val_loss: 2.5930 - val_accuracy: 0.2812\n",
      "Epoch 4/50\n",
      "12/12 [==============================] - 0s 28ms/step - loss: 0.3522 - accuracy: 0.8834 - val_loss: 2.6778 - val_accuracy: 0.3203\n",
      "Epoch 5/50\n",
      "12/12 [==============================] - 0s 30ms/step - loss: 0.3393 - accuracy: 0.9003 - val_loss: 2.5970 - val_accuracy: 0.2500\n",
      "Epoch 6/50\n",
      "12/12 [==============================] - 0s 28ms/step - loss: 0.3573 - accuracy: 0.8792 - val_loss: 2.4732 - val_accuracy: 0.2891\n",
      "Epoch 7/50\n",
      "12/12 [==============================] - 0s 28ms/step - loss: 0.3260 - accuracy: 0.9017 - val_loss: 2.3041 - val_accuracy: 0.3125\n",
      "Epoch 8/50\n",
      "12/12 [==============================] - 0s 27ms/step - loss: 0.3327 - accuracy: 0.8975 - val_loss: 2.2770 - val_accuracy: 0.3281\n",
      "Epoch 9/50\n",
      "12/12 [==============================] - 0s 29ms/step - loss: 0.3334 - accuracy: 0.9073 - val_loss: 2.4088 - val_accuracy: 0.3047\n",
      "Epoch 10/50\n",
      "12/12 [==============================] - 0s 29ms/step - loss: 0.3153 - accuracy: 0.9073 - val_loss: 2.7008 - val_accuracy: 0.3203\n",
      "Epoch 11/50\n",
      "12/12 [==============================] - 0s 27ms/step - loss: 0.3274 - accuracy: 0.9017 - val_loss: 2.5561 - val_accuracy: 0.2734\n",
      "Epoch 12/50\n",
      "12/12 [==============================] - 0s 26ms/step - loss: 0.3255 - accuracy: 0.9003 - val_loss: 2.3598 - val_accuracy: 0.3281\n",
      "Epoch 13/50\n",
      "12/12 [==============================] - 0s 27ms/step - loss: 0.3164 - accuracy: 0.9045 - val_loss: 2.5679 - val_accuracy: 0.2969\n",
      "Epoch 14/50\n",
      "12/12 [==============================] - 0s 26ms/step - loss: 0.3094 - accuracy: 0.9087 - val_loss: 2.5715 - val_accuracy: 0.2969\n",
      "Epoch 15/50\n",
      "12/12 [==============================] - 0s 28ms/step - loss: 0.3259 - accuracy: 0.8989 - val_loss: 2.6205 - val_accuracy: 0.3125\n",
      "Epoch 16/50\n",
      "12/12 [==============================] - 0s 29ms/step - loss: 0.3334 - accuracy: 0.9023 - val_loss: 2.7048 - val_accuracy: 0.3281\n",
      "Epoch 17/50\n",
      "12/12 [==============================] - 0s 24ms/step - loss: 0.3294 - accuracy: 0.8975 - val_loss: 2.6321 - val_accuracy: 0.2734\n",
      "Epoch 18/50\n",
      "12/12 [==============================] - 0s 25ms/step - loss: 0.3095 - accuracy: 0.9087 - val_loss: 2.4893 - val_accuracy: 0.2266\n",
      "Epoch 19/50\n",
      "12/12 [==============================] - 0s 25ms/step - loss: 0.3364 - accuracy: 0.8906 - val_loss: 2.5401 - val_accuracy: 0.2969\n",
      "Epoch 20/50\n",
      "12/12 [==============================] - 0s 24ms/step - loss: 0.3086 - accuracy: 0.9059 - val_loss: 2.5608 - val_accuracy: 0.2812\n",
      "Epoch 21/50\n",
      "12/12 [==============================] - 0s 24ms/step - loss: 0.3044 - accuracy: 0.9157 - val_loss: 2.7979 - val_accuracy: 0.2500\n",
      "Epoch 22/50\n",
      "12/12 [==============================] - 0s 24ms/step - loss: 0.3129 - accuracy: 0.9059 - val_loss: 2.7798 - val_accuracy: 0.2969\n",
      "Epoch 23/50\n",
      "12/12 [==============================] - 0s 24ms/step - loss: 0.3028 - accuracy: 0.9062 - val_loss: 2.5591 - val_accuracy: 0.3047\n",
      "Epoch 24/50\n",
      "12/12 [==============================] - 0s 26ms/step - loss: 0.3210 - accuracy: 0.9143 - val_loss: 2.6302 - val_accuracy: 0.2969\n",
      "Epoch 25/50\n",
      "12/12 [==============================] - 0s 23ms/step - loss: 0.2956 - accuracy: 0.9115 - val_loss: 2.4186 - val_accuracy: 0.3281\n",
      "Epoch 26/50\n",
      "12/12 [==============================] - 0s 24ms/step - loss: 0.2876 - accuracy: 0.9213 - val_loss: 2.7630 - val_accuracy: 0.2969\n",
      "Epoch 27/50\n",
      "12/12 [==============================] - 0s 25ms/step - loss: 0.3215 - accuracy: 0.9045 - val_loss: 2.3880 - val_accuracy: 0.3359\n",
      "Epoch 28/50\n",
      "12/12 [==============================] - 0s 24ms/step - loss: 0.3213 - accuracy: 0.8989 - val_loss: 2.7026 - val_accuracy: 0.3047\n",
      "Epoch 29/50\n",
      "12/12 [==============================] - 0s 24ms/step - loss: 0.3059 - accuracy: 0.9073 - val_loss: 2.6759 - val_accuracy: 0.3047\n",
      "Epoch 30/50\n",
      "12/12 [==============================] - 0s 24ms/step - loss: 0.3124 - accuracy: 0.9003 - val_loss: 2.4819 - val_accuracy: 0.2500\n",
      "Epoch 31/50\n",
      "12/12 [==============================] - 0s 26ms/step - loss: 0.2951 - accuracy: 0.9245 - val_loss: 2.7502 - val_accuracy: 0.3203\n",
      "Epoch 32/50\n",
      "12/12 [==============================] - 0s 24ms/step - loss: 0.2807 - accuracy: 0.9298 - val_loss: 2.9085 - val_accuracy: 0.2812\n",
      "Epoch 33/50\n",
      "12/12 [==============================] - 0s 25ms/step - loss: 0.2827 - accuracy: 0.9284 - val_loss: 2.5823 - val_accuracy: 0.3281\n",
      "Epoch 34/50\n",
      "12/12 [==============================] - 0s 25ms/step - loss: 0.2668 - accuracy: 0.9340 - val_loss: 2.5344 - val_accuracy: 0.3438\n",
      "Epoch 35/50\n",
      "12/12 [==============================] - 0s 26ms/step - loss: 0.2798 - accuracy: 0.9256 - val_loss: 2.6526 - val_accuracy: 0.3203\n",
      "Epoch 36/50\n",
      "12/12 [==============================] - 0s 25ms/step - loss: 0.3129 - accuracy: 0.8989 - val_loss: 2.7078 - val_accuracy: 0.2578\n",
      "Epoch 37/50\n",
      "12/12 [==============================] - 0s 25ms/step - loss: 0.2806 - accuracy: 0.9228 - val_loss: 2.5610 - val_accuracy: 0.2891\n",
      "Epoch 38/50\n",
      "12/12 [==============================] - 0s 26ms/step - loss: 0.3070 - accuracy: 0.9045 - val_loss: 2.9236 - val_accuracy: 0.3047\n",
      "Epoch 39/50\n",
      "12/12 [==============================] - 0s 23ms/step - loss: 0.2989 - accuracy: 0.8989 - val_loss: 2.8113 - val_accuracy: 0.2812\n",
      "Epoch 40/50\n",
      "12/12 [==============================] - 0s 25ms/step - loss: 0.2687 - accuracy: 0.9219 - val_loss: 2.5231 - val_accuracy: 0.3047\n",
      "Epoch 41/50\n",
      "12/12 [==============================] - 0s 24ms/step - loss: 0.2755 - accuracy: 0.9171 - val_loss: 2.6303 - val_accuracy: 0.2734\n",
      "Epoch 42/50\n",
      "12/12 [==============================] - 0s 25ms/step - loss: 0.2836 - accuracy: 0.9087 - val_loss: 2.5814 - val_accuracy: 0.3047\n",
      "Epoch 43/50\n",
      "12/12 [==============================] - 0s 25ms/step - loss: 0.2958 - accuracy: 0.9129 - val_loss: 2.5456 - val_accuracy: 0.2891\n",
      "Epoch 44/50\n",
      "12/12 [==============================] - 0s 24ms/step - loss: 0.2775 - accuracy: 0.9284 - val_loss: 2.5856 - val_accuracy: 0.2891\n",
      "Epoch 45/50\n",
      "12/12 [==============================] - 0s 24ms/step - loss: 0.2851 - accuracy: 0.9115 - val_loss: 2.9155 - val_accuracy: 0.2656\n",
      "Epoch 46/50\n",
      "12/12 [==============================] - 0s 24ms/step - loss: 0.2860 - accuracy: 0.9242 - val_loss: 2.4643 - val_accuracy: 0.3359\n",
      "Epoch 47/50\n",
      "12/12 [==============================] - 0s 24ms/step - loss: 0.2714 - accuracy: 0.9256 - val_loss: 2.7392 - val_accuracy: 0.3203\n",
      "Epoch 48/50\n",
      "12/12 [==============================] - 0s 26ms/step - loss: 0.2781 - accuracy: 0.9128 - val_loss: 2.6559 - val_accuracy: 0.3125\n",
      "Epoch 49/50\n",
      "12/12 [==============================] - 0s 25ms/step - loss: 0.2575 - accuracy: 0.9354 - val_loss: 2.5379 - val_accuracy: 0.3047\n",
      "Epoch 50/50\n",
      "12/12 [==============================] - 0s 24ms/step - loss: 0.2666 - accuracy: 0.9199 - val_loss: 2.8983 - val_accuracy: 0.2734\n"
     ]
    }
   ],
   "source": [
    "face_train = face_emotion_model.fit(\n",
    "    face_train_generator,\n",
    "    steps_per_epoch= 776 // 64,\n",
    "    epochs=50,\n",
    "    validation_data=face_valid_generator,\n",
    "    validation_steps= 181 // 64  \n",
    ")"
   ]
  },
  {
   "cell_type": "code",
   "execution_count": 120,
   "metadata": {},
   "outputs": [
    {
     "name": "stdout",
     "output_type": "stream",
     "text": [
      "Training: 0.9199438095092773\n",
      "Validation: 0.2734375\n"
     ]
    },
    {
     "data": {
      "image/png": "[encoded data removed]",
      "text/plain": [
       "<Figure size 640x480 with 1 Axes>"
      ]
     },
     "metadata": {},
     "output_type": "display_data"
    }
   ],
   "source": [
    "print(\"Training:\", face_train.history['accuracy'][-1])\n",
    "print(\"Validation:\", face_train.history['val_accuracy'][-1])\n",
    "\n",
    "plt.plot(face_train.history['accuracy'], label='Training Accuracy')\n",
    "plt.plot(face_train.history['val_accuracy'], label='Validation Accuracy')\n",
    "plt.xlabel('Epoch')\n",
    "plt.ylabel('Accuracy')\n",
    "plt.legend()\n",
    "plt.show()"
   ]
  },
  {
   "cell_type": "code",
   "execution_count": 72,
   "metadata": {},
   "outputs": [
    {
     "name": "stdout",
     "output_type": "stream",
     "text": [
      "13/13 [==============================] - 0s 17ms/step\n",
      "3/3 [==============================] - 0s 15ms/step\n"
     ]
    }
   ],
   "source": [
    "face_model = Model(inputs=face_emotion_model.input, outputs=face_emotion_model.get_layer('face_flatten').output)\n",
    "\n",
    "feature_face_train = face_model.predict(face_train_generator)\n",
    "\n",
    "feature_face_valid = face_model.predict(face_valid_generator)\n"
   ]
  },
  {
   "cell_type": "code",
   "execution_count": 73,
   "metadata": {},
   "outputs": [
    {
     "data": {
      "text/plain": [
       "array([[2.5869271e-01, 5.1872694e-01, 5.7119399e-01, ..., 4.8404098e-01,\n",
       "        0.0000000e+00, 0.0000000e+00],\n",
       "       [4.0990996e-01, 1.9595723e-01, 1.1515947e-01, ..., 2.2332558e-01,\n",
       "        0.0000000e+00, 4.0334616e-02],\n",
       "       [4.9598452e-02, 6.0137200e-01, 5.0140369e-01, ..., 1.9128148e-01,\n",
       "        0.0000000e+00, 1.6804373e-01],\n",
       "       ...,\n",
       "       [5.0809878e-01, 0.0000000e+00, 1.8735025e-02, ..., 8.3522427e-01,\n",
       "        0.0000000e+00, 0.0000000e+00],\n",
       "       [4.5156732e-01, 2.3515090e-01, 1.0385905e-01, ..., 3.8069749e-01,\n",
       "        0.0000000e+00, 6.8197306e-04],\n",
       "       [3.1450239e-01, 6.3204038e-01, 4.8157018e-01, ..., 3.5132608e-01,\n",
       "        0.0000000e+00, 2.8463196e-02]], dtype=float32)"
      ]
     },
     "execution_count": 73,
     "metadata": {},
     "output_type": "execute_result"
    }
   ],
   "source": [
    "feature_face_train"
   ]
  },
  {
   "cell_type": "code",
   "execution_count": 74,
   "metadata": {},
   "outputs": [
    {
     "data": {
      "text/plain": [
       "array([[0.48032555, 0.        , 0.        , ..., 0.38827765, 0.        ,\n",
       "        0.        ],\n",
       "       [0.1249596 , 0.18419369, 0.19936487, ..., 0.2905847 , 0.        ,\n",
       "        0.02623525],\n",
       "       [0.5536633 , 0.        , 0.11015146, ..., 0.4335562 , 0.        ,\n",
       "        0.        ],\n",
       "       ...,\n",
       "       [0.4811916 , 0.1846734 , 0.16176957, ..., 0.4119976 , 0.        ,\n",
       "        0.01384185],\n",
       "       [0.38189402, 0.16777757, 0.33680627, ..., 0.38987345, 0.        ,\n",
       "        0.        ],\n",
       "       [0.526409  , 0.07873319, 0.1875577 , ..., 0.29029995, 0.        ,\n",
       "        0.05109133]], dtype=float32)"
      ]
     },
     "execution_count": 74,
     "metadata": {},
     "output_type": "execute_result"
    }
   ],
   "source": [
    "feature_face_valid"
   ]
  },
  {
   "cell_type": "code",
   "execution_count": 75,
   "metadata": {},
   "outputs": [
    {
     "name": "stdout",
     "output_type": "stream",
     "text": [
      "Model: \"sequential_9\"\n",
      "_________________________________________________________________\n",
      " Layer (type)                Output Shape              Param #   \n",
      "=================================================================\n",
      " conv2d_12 (Conv2D)          (None, 28, 60, 6)         60        \n",
      "                                                                 \n",
      " max_pooling2d_12 (MaxPooli  (None, 14, 30, 6)         0         \n",
      " ng2D)                                                           \n",
      "                                                                 \n",
      " conv2d_13 (Conv2D)          (None, 12, 28, 16)        880       \n",
      "                                                                 \n",
      " max_pooling2d_13 (MaxPooli  (None, 6, 14, 16)         0         \n",
      " ng2D)                                                           \n",
      "                                                                 \n",
      " conv2d_14 (Conv2D)          (None, 4, 12, 32)         4640      \n",
      "                                                                 \n",
      " max_pooling2d_14 (MaxPooli  (None, 2, 6, 32)          0         \n",
      " ng2D)                                                           \n",
      "                                                                 \n",
      " eyes_flatten (Flatten)      (None, 384)               0         \n",
      "                                                                 \n",
      " dense_18 (Dense)            (None, 1024)              394240    \n",
      "                                                                 \n",
      " dropout_9 (Dropout)         (None, 1024)              0         \n",
      "                                                                 \n",
      " dense_19 (Dense)            (None, 7)                 7175      \n",
      "                                                                 \n",
      "=================================================================\n",
      "Total params: 406995 (1.55 MB)\n",
      "Trainable params: 406995 (1.55 MB)\n",
      "Non-trainable params: 0 (0.00 Byte)\n",
      "_________________________________________________________________\n"
     ]
    }
   ],
   "source": [
    "# variance\n",
    "\n",
    "eyes_emotion_model = Sequential()\n",
    "\n",
    "eyes_emotion_model.add(Conv2D(6, kernel_size=(3, 3), activation='relu', input_shape=(30, 62, 1)))\n",
    "eyes_emotion_model.add(MaxPooling2D(pool_size=(2, 2)))\n",
    "\n",
    "eyes_emotion_model.add(Conv2D(16, kernel_size=(3, 3), activation='relu', input_shape=(14, 30, 6)))\n",
    "eyes_emotion_model.add(MaxPooling2D(pool_size=(2, 2)))\n",
    "\n",
    "eyes_emotion_model.add(Conv2D(32, kernel_size=(3, 3), activation='relu', input_shape=(6, 14, 16)))\n",
    "eyes_emotion_model.add(MaxPooling2D(pool_size=(2, 2)))\n",
    "\n",
    "eyes_emotion_model.add(Flatten(name=\"eyes_flatten\"))\n",
    "\n",
    "eyes_emotion_model.add(Dense(1024, activation='relu'))\n",
    "eyes_emotion_model.add(Dropout(0.25))\n",
    "\n",
    "eyes_emotion_model.add(Dense(7, activation='softmax'))\n",
    "\n",
    "eyes_emotion_model.compile(loss='categorical_crossentropy', optimizer=tf.keras.optimizers.legacy.Adam(learning_rate=0.0001, decay=1e-6), metrics=['accuracy'])\n",
    "\n",
    "eyes_emotion_model.summary()"
   ]
  },
  {
   "cell_type": "code",
   "execution_count": 121,
   "metadata": {},
   "outputs": [
    {
     "name": "stdout",
     "output_type": "stream",
     "text": [
      "Epoch 1/50\n",
      "12/12 [==============================] - 0s 33ms/step - loss: 0.2977 - accuracy: 0.9032 - val_loss: 3.1170 - val_accuracy: 0.2734\n",
      "Epoch 2/50\n",
      "12/12 [==============================] - 0s 27ms/step - loss: 0.2989 - accuracy: 0.9046 - val_loss: 3.4917 - val_accuracy: 0.2500\n",
      "Epoch 3/50\n",
      "12/12 [==============================] - 0s 27ms/step - loss: 0.3031 - accuracy: 0.9243 - val_loss: 3.0441 - val_accuracy: 0.3047\n",
      "Epoch 4/50\n",
      "12/12 [==============================] - 0s 27ms/step - loss: 0.2814 - accuracy: 0.9144 - val_loss: 3.3015 - val_accuracy: 0.2578\n",
      "Epoch 5/50\n",
      "12/12 [==============================] - 0s 26ms/step - loss: 0.2983 - accuracy: 0.9130 - val_loss: 3.3223 - val_accuracy: 0.2656\n",
      "Epoch 6/50\n",
      "12/12 [==============================] - 0s 27ms/step - loss: 0.2876 - accuracy: 0.9258 - val_loss: 3.0764 - val_accuracy: 0.2656\n",
      "Epoch 7/50\n",
      "12/12 [==============================] - 0s 26ms/step - loss: 0.2729 - accuracy: 0.9297 - val_loss: 3.3318 - val_accuracy: 0.2969\n",
      "Epoch 8/50\n",
      "12/12 [==============================] - 0s 27ms/step - loss: 0.2670 - accuracy: 0.9257 - val_loss: 3.0161 - val_accuracy: 0.2812\n",
      "Epoch 9/50\n",
      "12/12 [==============================] - 0s 26ms/step - loss: 0.2565 - accuracy: 0.9327 - val_loss: 3.2688 - val_accuracy: 0.3047\n",
      "Epoch 10/50\n",
      "12/12 [==============================] - 0s 24ms/step - loss: 0.2574 - accuracy: 0.9313 - val_loss: 3.2423 - val_accuracy: 0.2812\n",
      "Epoch 11/50\n",
      "12/12 [==============================] - 0s 25ms/step - loss: 0.2810 - accuracy: 0.9313 - val_loss: 3.3652 - val_accuracy: 0.2734\n",
      "Epoch 12/50\n",
      "12/12 [==============================] - 0s 27ms/step - loss: 0.2903 - accuracy: 0.9229 - val_loss: 3.6775 - val_accuracy: 0.2266\n",
      "Epoch 13/50\n",
      "12/12 [==============================] - 0s 25ms/step - loss: 0.2766 - accuracy: 0.9271 - val_loss: 2.9562 - val_accuracy: 0.3203\n",
      "Epoch 14/50\n",
      "12/12 [==============================] - 0s 26ms/step - loss: 0.2651 - accuracy: 0.9299 - val_loss: 3.3919 - val_accuracy: 0.2109\n",
      "Epoch 15/50\n",
      "12/12 [==============================] - 0s 26ms/step - loss: 0.2636 - accuracy: 0.9271 - val_loss: 3.0742 - val_accuracy: 0.2812\n",
      "Epoch 16/50\n",
      "12/12 [==============================] - 0s 28ms/step - loss: 0.2582 - accuracy: 0.9299 - val_loss: 3.5610 - val_accuracy: 0.2500\n",
      "Epoch 17/50\n",
      "12/12 [==============================] - 0s 29ms/step - loss: 0.2787 - accuracy: 0.9201 - val_loss: 3.0493 - val_accuracy: 0.3203\n",
      "Epoch 18/50\n",
      "12/12 [==============================] - 0s 27ms/step - loss: 0.2715 - accuracy: 0.9257 - val_loss: 2.9071 - val_accuracy: 0.3047\n",
      "Epoch 19/50\n",
      "12/12 [==============================] - 0s 26ms/step - loss: 0.2719 - accuracy: 0.9355 - val_loss: 3.3647 - val_accuracy: 0.2734\n",
      "Epoch 20/50\n",
      "12/12 [==============================] - 0s 25ms/step - loss: 0.2442 - accuracy: 0.9411 - val_loss: 3.2394 - val_accuracy: 0.3125\n",
      "Epoch 21/50\n",
      "12/12 [==============================] - 0s 26ms/step - loss: 0.2614 - accuracy: 0.9299 - val_loss: 3.4179 - val_accuracy: 0.2578\n",
      "Epoch 22/50\n",
      "12/12 [==============================] - 0s 27ms/step - loss: 0.2740 - accuracy: 0.9243 - val_loss: 3.3274 - val_accuracy: 0.2969\n",
      "Epoch 23/50\n",
      "12/12 [==============================] - 0s 25ms/step - loss: 0.2544 - accuracy: 0.9327 - val_loss: 3.0786 - val_accuracy: 0.2812\n",
      "Epoch 24/50\n",
      "12/12 [==============================] - 0s 26ms/step - loss: 0.2653 - accuracy: 0.9229 - val_loss: 3.3888 - val_accuracy: 0.2188\n",
      "Epoch 25/50\n",
      "12/12 [==============================] - 0s 24ms/step - loss: 0.2665 - accuracy: 0.9187 - val_loss: 3.2948 - val_accuracy: 0.3047\n",
      "Epoch 26/50\n",
      "12/12 [==============================] - 0s 26ms/step - loss: 0.2552 - accuracy: 0.9439 - val_loss: 3.4979 - val_accuracy: 0.2578\n",
      "Epoch 27/50\n",
      "12/12 [==============================] - 0s 25ms/step - loss: 0.2393 - accuracy: 0.9397 - val_loss: 3.2089 - val_accuracy: 0.2578\n",
      "Epoch 28/50\n",
      "12/12 [==============================] - 0s 25ms/step - loss: 0.2481 - accuracy: 0.9397 - val_loss: 3.5217 - val_accuracy: 0.2891\n",
      "Epoch 29/50\n",
      "12/12 [==============================] - 0s 25ms/step - loss: 0.2632 - accuracy: 0.9243 - val_loss: 3.2452 - val_accuracy: 0.3125\n",
      "Epoch 30/50\n",
      "12/12 [==============================] - 0s 25ms/step - loss: 0.2625 - accuracy: 0.9299 - val_loss: 3.1403 - val_accuracy: 0.3047\n",
      "Epoch 31/50\n",
      "12/12 [==============================] - 0s 26ms/step - loss: 0.2486 - accuracy: 0.9383 - val_loss: 3.5584 - val_accuracy: 0.2578\n",
      "Epoch 32/50\n",
      "12/12 [==============================] - 0s 26ms/step - loss: 0.2620 - accuracy: 0.9355 - val_loss: 3.3260 - val_accuracy: 0.2891\n",
      "Epoch 33/50\n",
      "12/12 [==============================] - 0s 24ms/step - loss: 0.2578 - accuracy: 0.9285 - val_loss: 3.3639 - val_accuracy: 0.2656\n",
      "Epoch 34/50\n",
      "12/12 [==============================] - 0s 27ms/step - loss: 0.2325 - accuracy: 0.9481 - val_loss: 3.2738 - val_accuracy: 0.2891\n",
      "Epoch 35/50\n",
      "12/12 [==============================] - 0s 25ms/step - loss: 0.2489 - accuracy: 0.9327 - val_loss: 3.6358 - val_accuracy: 0.2266\n",
      "Epoch 36/50\n",
      "12/12 [==============================] - 0s 25ms/step - loss: 0.2469 - accuracy: 0.9369 - val_loss: 3.3601 - val_accuracy: 0.2969\n",
      "Epoch 37/50\n",
      "12/12 [==============================] - 0s 24ms/step - loss: 0.2509 - accuracy: 0.9313 - val_loss: 3.1928 - val_accuracy: 0.3125\n",
      "Epoch 38/50\n",
      "12/12 [==============================] - 0s 26ms/step - loss: 0.2380 - accuracy: 0.9467 - val_loss: 3.2723 - val_accuracy: 0.3203\n",
      "Epoch 39/50\n",
      "12/12 [==============================] - 0s 26ms/step - loss: 0.2417 - accuracy: 0.9369 - val_loss: 3.4019 - val_accuracy: 0.2969\n",
      "Epoch 40/50\n",
      "12/12 [==============================] - 0s 24ms/step - loss: 0.2503 - accuracy: 0.9201 - val_loss: 3.1088 - val_accuracy: 0.2891\n",
      "Epoch 41/50\n",
      "12/12 [==============================] - 0s 25ms/step - loss: 0.2542 - accuracy: 0.9243 - val_loss: 3.2318 - val_accuracy: 0.2422\n",
      "Epoch 42/50\n",
      "12/12 [==============================] - 0s 25ms/step - loss: 0.2298 - accuracy: 0.9495 - val_loss: 3.3698 - val_accuracy: 0.3047\n",
      "Epoch 43/50\n",
      "12/12 [==============================] - 0s 24ms/step - loss: 0.2374 - accuracy: 0.9467 - val_loss: 3.3518 - val_accuracy: 0.2812\n",
      "Epoch 44/50\n",
      "12/12 [==============================] - 0s 26ms/step - loss: 0.2379 - accuracy: 0.9411 - val_loss: 3.4886 - val_accuracy: 0.2656\n",
      "Epoch 45/50\n",
      "12/12 [==============================] - 0s 25ms/step - loss: 0.2375 - accuracy: 0.9453 - val_loss: 3.2818 - val_accuracy: 0.3047\n",
      "Epoch 46/50\n",
      "12/12 [==============================] - 0s 25ms/step - loss: 0.2376 - accuracy: 0.9439 - val_loss: 3.2349 - val_accuracy: 0.3047\n",
      "Epoch 47/50\n",
      "12/12 [==============================] - 0s 26ms/step - loss: 0.2241 - accuracy: 0.9369 - val_loss: 3.2094 - val_accuracy: 0.2734\n",
      "Epoch 48/50\n",
      "12/12 [==============================] - 0s 26ms/step - loss: 0.2300 - accuracy: 0.9425 - val_loss: 3.4530 - val_accuracy: 0.2734\n",
      "Epoch 49/50\n",
      "12/12 [==============================] - 0s 26ms/step - loss: 0.2580 - accuracy: 0.9257 - val_loss: 3.6722 - val_accuracy: 0.2812\n",
      "Epoch 50/50\n",
      "12/12 [==============================] - 0s 25ms/step - loss: 0.2214 - accuracy: 0.9411 - val_loss: 3.4106 - val_accuracy: 0.2656\n"
     ]
    }
   ],
   "source": [
    "eyes_train = eyes_emotion_model.fit(\n",
    "    eyes_train_generator,\n",
    "    steps_per_epoch= 777 // 64,\n",
    "    epochs=50,\n",
    "    validation_data=eyes_valid_generator,\n",
    "    validation_steps= 181 // 64  \n",
    ")"
   ]
  },
  {
   "cell_type": "code",
   "execution_count": 122,
   "metadata": {},
   "outputs": [
    {
     "name": "stdout",
     "output_type": "stream",
     "text": [
      "Training: 0.9410939812660217\n",
      "Validation: 0.265625\n"
     ]
    },
    {
     "data": {
      "image/png": "[encoded data removed]",
      "text/plain": [
       "<Figure size 640x480 with 1 Axes>"
      ]
     },
     "metadata": {},
     "output_type": "display_data"
    }
   ],
   "source": [
    "print(\"Training:\", eyes_train.history['accuracy'][-1])\n",
    "print(\"Validation:\", eyes_train.history['val_accuracy'][-1])\n",
    "\n",
    "plt.plot(eyes_train.history['accuracy'], label='Training Accuracy')\n",
    "plt.plot(eyes_train.history['val_accuracy'], label='Validation Accuracy')\n",
    "plt.xlabel('Epoch')\n",
    "plt.ylabel('Accuracy')\n",
    "plt.legend()\n",
    "plt.show()"
   ]
  },
  {
   "cell_type": "code",
   "execution_count": 78,
   "metadata": {},
   "outputs": [
    {
     "name": "stdout",
     "output_type": "stream",
     "text": [
      "13/13 [==============================] - 0s 18ms/step\n",
      "3/3 [==============================] - 0s 18ms/step\n"
     ]
    }
   ],
   "source": [
    "eyes_feature = Model(inputs=eyes_emotion_model.input, outputs=eyes_emotion_model.get_layer('eyes_flatten').output)\n",
    "eyes_feature_train = eyes_feature.predict(eyes_train_generator)\n",
    "eyes_feature_valid = eyes_feature.predict(eyes_valid_generator)\n"
   ]
  },
  {
   "cell_type": "code",
   "execution_count": 79,
   "metadata": {},
   "outputs": [
    {
     "data": {
      "text/plain": [
       "array([[0.08185562, 0.24945863, 0.09331698, ..., 0.05305886, 0.08502267,\n",
       "        0.13263763],\n",
       "       [0.22329623, 0.28395042, 0.12244371, ..., 0.12447326, 0.01309554,\n",
       "        0.10921614],\n",
       "       [0.2742737 , 0.43048656, 0.11009624, ..., 0.07667204, 0.03096351,\n",
       "        0.19973323],\n",
       "       ...,\n",
       "       [0.22716868, 0.4046209 , 0.18958175, ..., 0.01294193, 0.10104385,\n",
       "        0.08815958],\n",
       "       [0.1309052 , 0.21436778, 0.10767749, ..., 0.        , 0.0451499 ,\n",
       "        0.05820803],\n",
       "       [0.23237729, 0.28938192, 0.13775454, ..., 0.10335657, 0.05701723,\n",
       "        0.06422707]], dtype=float32)"
      ]
     },
     "execution_count": 79,
     "metadata": {},
     "output_type": "execute_result"
    }
   ],
   "source": [
    "eyes_feature_train"
   ]
  },
  {
   "cell_type": "code",
   "execution_count": 80,
   "metadata": {},
   "outputs": [
    {
     "data": {
      "text/plain": [
       "array([[0.07100354, 0.15673326, 0.16308783, ..., 0.10916021, 0.09442575,\n",
       "        0.09023122],\n",
       "       [0.15725702, 0.25377816, 0.11064259, ..., 0.20617351, 0.15042096,\n",
       "        0.19493158],\n",
       "       [0.23385505, 0.24580286, 0.16972291, ..., 0.08435431, 0.08156496,\n",
       "        0.13843209],\n",
       "       ...,\n",
       "       [0.25174692, 0.4558173 , 0.18303776, ..., 0.07229197, 0.00197211,\n",
       "        0.03507975],\n",
       "       [0.1534239 , 0.29625088, 0.07823927, ..., 0.0012621 , 0.        ,\n",
       "        0.04144567],\n",
       "       [0.22219533, 0.3621193 , 0.16974135, ..., 0.        , 0.17806499,\n",
       "        0.01692654]], dtype=float32)"
      ]
     },
     "execution_count": 80,
     "metadata": {},
     "output_type": "execute_result"
    }
   ],
   "source": [
    "eyes_feature_valid"
   ]
  },
  {
   "cell_type": "code",
   "execution_count": 81,
   "metadata": {},
   "outputs": [
    {
     "name": "stdout",
     "output_type": "stream",
     "text": [
      "Model: \"sequential_10\"\n",
      "_________________________________________________________________\n",
      " Layer (type)                Output Shape              Param #   \n",
      "=================================================================\n",
      " conv2d_15 (Conv2D)          (None, 28, 36, 6)         60        \n",
      "                                                                 \n",
      " max_pooling2d_15 (MaxPooli  (None, 14, 18, 6)         0         \n",
      " ng2D)                                                           \n",
      "                                                                 \n",
      " conv2d_16 (Conv2D)          (None, 12, 16, 16)        880       \n",
      "                                                                 \n",
      " max_pooling2d_16 (MaxPooli  (None, 6, 8, 16)          0         \n",
      " ng2D)                                                           \n",
      "                                                                 \n",
      " conv2d_17 (Conv2D)          (None, 4, 6, 32)          4640      \n",
      "                                                                 \n",
      " max_pooling2d_17 (MaxPooli  (None, 2, 3, 32)          0         \n",
      " ng2D)                                                           \n",
      "                                                                 \n",
      " mouth_flatten (Flatten)     (None, 192)               0         \n",
      "                                                                 \n",
      " dense_20 (Dense)            (None, 1024)              197632    \n",
      "                                                                 \n",
      " dropout_10 (Dropout)        (None, 1024)              0         \n",
      "                                                                 \n",
      " dense_21 (Dense)            (None, 7)                 7175      \n",
      "                                                                 \n",
      "=================================================================\n",
      "Total params: 210387 (821.82 KB)\n",
      "Trainable params: 210387 (821.82 KB)\n",
      "Non-trainable params: 0 (0.00 Byte)\n",
      "_________________________________________________________________\n"
     ]
    }
   ],
   "source": [
    "# variance\n",
    "\n",
    "mouth_emotion_model = Sequential()\n",
    "\n",
    "mouth_emotion_model.add(Conv2D(6, kernel_size=(3, 3), activation='relu', input_shape=(30, 38, 1)))\n",
    "mouth_emotion_model.add(MaxPooling2D(pool_size=(2, 2)))\n",
    "\n",
    "mouth_emotion_model.add(Conv2D(16, kernel_size=(3, 3), activation='relu', input_shape=(14, 18, 6)))\n",
    "mouth_emotion_model.add(MaxPooling2D(pool_size=(2, 2)))\n",
    "\n",
    "mouth_emotion_model.add(Conv2D(32, kernel_size=(3, 3), activation='relu', input_shape=(6, 8, 16)))\n",
    "mouth_emotion_model.add(MaxPooling2D(pool_size=(2, 2)))\n",
    "\n",
    "mouth_emotion_model.add(Flatten(name=\"mouth_flatten\"))\n",
    "\n",
    "mouth_emotion_model.add(Dense(1024, activation='relu'))\n",
    "mouth_emotion_model.add(Dropout(0.25))\n",
    "\n",
    "mouth_emotion_model.add(Dense(7, activation='softmax'))\n",
    "\n",
    "mouth_emotion_model.compile(loss='categorical_crossentropy', optimizer=tf.keras.optimizers.legacy.Adam(learning_rate=0.0001, decay=1e-6), metrics=['accuracy'])\n",
    "\n",
    "mouth_emotion_model.summary()"
   ]
  },
  {
   "cell_type": "code",
   "execution_count": 117,
   "metadata": {},
   "outputs": [
    {
     "name": "stdout",
     "output_type": "stream",
     "text": [
      "Epoch 1/50\n",
      "12/12 [==============================] - 0s 30ms/step - loss: 0.3141 - accuracy: 0.9035 - val_loss: 2.0703 - val_accuracy: 0.4688\n",
      "Epoch 2/50\n",
      "12/12 [==============================] - 0s 24ms/step - loss: 0.3196 - accuracy: 0.8993 - val_loss: 2.1562 - val_accuracy: 0.4453\n",
      "Epoch 3/50\n",
      "12/12 [==============================] - 0s 26ms/step - loss: 0.3221 - accuracy: 0.9050 - val_loss: 1.8200 - val_accuracy: 0.5312\n",
      "Epoch 4/50\n",
      "12/12 [==============================] - 0s 27ms/step - loss: 0.3230 - accuracy: 0.9050 - val_loss: 2.0393 - val_accuracy: 0.4453\n",
      "Epoch 5/50\n",
      "12/12 [==============================] - 0s 29ms/step - loss: 0.3587 - accuracy: 0.8879 - val_loss: 2.0434 - val_accuracy: 0.4453\n",
      "Epoch 6/50\n",
      "12/12 [==============================] - 0s 28ms/step - loss: 0.3227 - accuracy: 0.9021 - val_loss: 2.2301 - val_accuracy: 0.3906\n",
      "Epoch 7/50\n",
      "12/12 [==============================] - 0s 27ms/step - loss: 0.3364 - accuracy: 0.8936 - val_loss: 2.3295 - val_accuracy: 0.4297\n",
      "Epoch 8/50\n",
      "12/12 [==============================] - 0s 29ms/step - loss: 0.3087 - accuracy: 0.9135 - val_loss: 2.1704 - val_accuracy: 0.4922\n",
      "Epoch 9/50\n",
      "12/12 [==============================] - 0s 25ms/step - loss: 0.3183 - accuracy: 0.9050 - val_loss: 2.1909 - val_accuracy: 0.4688\n",
      "Epoch 10/50\n",
      "12/12 [==============================] - 0s 23ms/step - loss: 0.3142 - accuracy: 0.9021 - val_loss: 1.8125 - val_accuracy: 0.5391\n",
      "Epoch 11/50\n",
      "12/12 [==============================] - 0s 27ms/step - loss: 0.4587 - accuracy: 0.8369 - val_loss: 2.1575 - val_accuracy: 0.4062\n",
      "Epoch 12/50\n",
      "12/12 [==============================] - 0s 28ms/step - loss: 0.3431 - accuracy: 0.8908 - val_loss: 2.1372 - val_accuracy: 0.4531\n",
      "Epoch 13/50\n",
      "12/12 [==============================] - 0s 24ms/step - loss: 0.5158 - accuracy: 0.8227 - val_loss: 2.2657 - val_accuracy: 0.4375\n",
      "Epoch 14/50\n",
      "12/12 [==============================] - 0s 23ms/step - loss: 0.3770 - accuracy: 0.8738 - val_loss: 1.7679 - val_accuracy: 0.4844\n",
      "Epoch 15/50\n",
      "12/12 [==============================] - 0s 24ms/step - loss: 0.3512 - accuracy: 0.8950 - val_loss: 2.0521 - val_accuracy: 0.4531\n",
      "Epoch 16/50\n",
      "12/12 [==============================] - 0s 23ms/step - loss: 0.3281 - accuracy: 0.9007 - val_loss: 1.9158 - val_accuracy: 0.5234\n",
      "Epoch 17/50\n",
      "12/12 [==============================] - 0s 24ms/step - loss: 0.3102 - accuracy: 0.9191 - val_loss: 1.8720 - val_accuracy: 0.4766\n",
      "Epoch 18/50\n",
      "12/12 [==============================] - 0s 24ms/step - loss: 0.3296 - accuracy: 0.9007 - val_loss: 2.0106 - val_accuracy: 0.5000\n",
      "Epoch 19/50\n",
      "12/12 [==============================] - 0s 24ms/step - loss: 0.2877 - accuracy: 0.9177 - val_loss: 2.3817 - val_accuracy: 0.4062\n",
      "Epoch 20/50\n",
      "12/12 [==============================] - 0s 24ms/step - loss: 0.3194 - accuracy: 0.9021 - val_loss: 2.1566 - val_accuracy: 0.4219\n",
      "Epoch 21/50\n",
      "12/12 [==============================] - 0s 26ms/step - loss: 0.3100 - accuracy: 0.9092 - val_loss: 1.9429 - val_accuracy: 0.4766\n",
      "Epoch 22/50\n",
      "12/12 [==============================] - 0s 21ms/step - loss: 0.3179 - accuracy: 0.9163 - val_loss: 2.1260 - val_accuracy: 0.4453\n",
      "Epoch 23/50\n",
      "12/12 [==============================] - 0s 24ms/step - loss: 0.3036 - accuracy: 0.9092 - val_loss: 1.9182 - val_accuracy: 0.4609\n",
      "Epoch 24/50\n",
      "12/12 [==============================] - 0s 28ms/step - loss: 0.3238 - accuracy: 0.8997 - val_loss: 1.9772 - val_accuracy: 0.4297\n",
      "Epoch 25/50\n",
      "12/12 [==============================] - 0s 27ms/step - loss: 0.3211 - accuracy: 0.9007 - val_loss: 2.1481 - val_accuracy: 0.4297\n",
      "Epoch 26/50\n",
      "12/12 [==============================] - 0s 26ms/step - loss: 0.3439 - accuracy: 0.8908 - val_loss: 1.8475 - val_accuracy: 0.5234\n",
      "Epoch 27/50\n",
      "12/12 [==============================] - 0s 26ms/step - loss: 0.3044 - accuracy: 0.9035 - val_loss: 2.1071 - val_accuracy: 0.4844\n",
      "Epoch 28/50\n",
      "12/12 [==============================] - 0s 26ms/step - loss: 0.2900 - accuracy: 0.9121 - val_loss: 2.1546 - val_accuracy: 0.4297\n",
      "Epoch 29/50\n",
      "12/12 [==============================] - 0s 27ms/step - loss: 0.4834 - accuracy: 0.8298 - val_loss: 2.2151 - val_accuracy: 0.3672\n",
      "Epoch 30/50\n",
      "12/12 [==============================] - 0s 26ms/step - loss: 0.4211 - accuracy: 0.8567 - val_loss: 2.2371 - val_accuracy: 0.4453\n",
      "Epoch 31/50\n",
      "12/12 [==============================] - 0s 26ms/step - loss: 0.4860 - accuracy: 0.8255 - val_loss: 2.1391 - val_accuracy: 0.4453\n",
      "Epoch 32/50\n",
      "12/12 [==============================] - 0s 27ms/step - loss: 0.3654 - accuracy: 0.8894 - val_loss: 1.9462 - val_accuracy: 0.4375\n",
      "Epoch 33/50\n",
      "12/12 [==============================] - 0s 23ms/step - loss: 0.3811 - accuracy: 0.8837 - val_loss: 2.1077 - val_accuracy: 0.4375\n",
      "Epoch 34/50\n",
      "12/12 [==============================] - 0s 24ms/step - loss: 0.3401 - accuracy: 0.8766 - val_loss: 2.0292 - val_accuracy: 0.5078\n",
      "Epoch 35/50\n",
      "12/12 [==============================] - 0s 24ms/step - loss: 0.3027 - accuracy: 0.9206 - val_loss: 2.2361 - val_accuracy: 0.4688\n",
      "Epoch 36/50\n",
      "12/12 [==============================] - 0s 24ms/step - loss: 0.3313 - accuracy: 0.8936 - val_loss: 2.2572 - val_accuracy: 0.4062\n",
      "Epoch 37/50\n",
      "12/12 [==============================] - 0s 24ms/step - loss: 0.3479 - accuracy: 0.8865 - val_loss: 1.7079 - val_accuracy: 0.4766\n",
      "Epoch 38/50\n",
      "12/12 [==============================] - 0s 27ms/step - loss: 0.3065 - accuracy: 0.9007 - val_loss: 2.2174 - val_accuracy: 0.4375\n",
      "Epoch 39/50\n",
      "12/12 [==============================] - 0s 25ms/step - loss: 0.3237 - accuracy: 0.9092 - val_loss: 1.9734 - val_accuracy: 0.4766\n",
      "Epoch 40/50\n",
      "12/12 [==============================] - 0s 26ms/step - loss: 0.3425 - accuracy: 0.8894 - val_loss: 1.7655 - val_accuracy: 0.4844\n",
      "Epoch 41/50\n",
      "12/12 [==============================] - 0s 23ms/step - loss: 0.3750 - accuracy: 0.8794 - val_loss: 2.2996 - val_accuracy: 0.4453\n",
      "Epoch 42/50\n",
      "12/12 [==============================] - 0s 23ms/step - loss: 0.3317 - accuracy: 0.8979 - val_loss: 2.4724 - val_accuracy: 0.4141\n",
      "Epoch 43/50\n",
      "12/12 [==============================] - 0s 23ms/step - loss: 0.3157 - accuracy: 0.8950 - val_loss: 2.0355 - val_accuracy: 0.4688\n",
      "Epoch 44/50\n",
      "12/12 [==============================] - 0s 25ms/step - loss: 0.3007 - accuracy: 0.9193 - val_loss: 2.2534 - val_accuracy: 0.4531\n",
      "Epoch 45/50\n",
      "12/12 [==============================] - 0s 23ms/step - loss: 0.3324 - accuracy: 0.8993 - val_loss: 2.2449 - val_accuracy: 0.4609\n",
      "Epoch 46/50\n",
      "12/12 [==============================] - 0s 24ms/step - loss: 0.3543 - accuracy: 0.8894 - val_loss: 2.1887 - val_accuracy: 0.4219\n",
      "Epoch 47/50\n",
      "12/12 [==============================] - 0s 24ms/step - loss: 0.3319 - accuracy: 0.8879 - val_loss: 2.3257 - val_accuracy: 0.4531\n",
      "Epoch 48/50\n",
      "12/12 [==============================] - 0s 24ms/step - loss: 0.3021 - accuracy: 0.9163 - val_loss: 2.0990 - val_accuracy: 0.4297\n",
      "Epoch 49/50\n",
      "12/12 [==============================] - 0s 24ms/step - loss: 0.2914 - accuracy: 0.9092 - val_loss: 2.0997 - val_accuracy: 0.5078\n",
      "Epoch 50/50\n",
      "12/12 [==============================] - 0s 26ms/step - loss: 0.3053 - accuracy: 0.9078 - val_loss: 2.0276 - val_accuracy: 0.4375\n"
     ]
    }
   ],
   "source": [
    "mouth_train = mouth_emotion_model.fit(\n",
    "    mouth_train_generator,\n",
    "    steps_per_epoch= 769 // 64,\n",
    "    epochs=50,\n",
    "    validation_data=mouth_valid_generator,\n",
    "    validation_steps= 181 // 64  \n",
    ")"
   ]
  },
  {
   "cell_type": "code",
   "execution_count": 119,
   "metadata": {},
   "outputs": [
    {
     "name": "stdout",
     "output_type": "stream",
     "text": [
      "Training: 0.9078013896942139\n",
      "Validation: 0.4375\n"
     ]
    },
    {
     "data": {
      "image/png": "[encoded data removed]",
      "text/plain": [
       "<Figure size 640x480 with 1 Axes>"
      ]
     },
     "metadata": {},
     "output_type": "display_data"
    }
   ],
   "source": [
    "print(\"Training:\", mouth_train.history['accuracy'][-1])\n",
    "print(\"Validation:\", mouth_train.history['val_accuracy'][-1])\n",
    "\n",
    "plt.plot(mouth_train.history['accuracy'], label='Training Accuracy')\n",
    "plt.plot(mouth_train.history['val_accuracy'], label='Validation Accuracy')\n",
    "plt.xlabel('Epoch')\n",
    "plt.ylabel('Accuracy')\n",
    "plt.legend()\n",
    "plt.show()"
   ]
  },
  {
   "cell_type": "code",
   "execution_count": 84,
   "metadata": {},
   "outputs": [
    {
     "name": "stdout",
     "output_type": "stream",
     "text": [
      "13/13 [==============================] - 0s 17ms/step\n",
      "3/3 [==============================] - 0s 17ms/step\n"
     ]
    }
   ],
   "source": [
    "mouth_feature = Model(inputs=mouth_emotion_model.input, outputs=mouth_emotion_model.get_layer('mouth_flatten').output)\n",
    "mouth_feature_train = mouth_feature.predict(mouth_train_generator)\n",
    "mouth_feature_valid = mouth_feature.predict(mouth_valid_generator)\n"
   ]
  },
  {
   "cell_type": "code",
   "execution_count": 85,
   "metadata": {},
   "outputs": [
    {
     "data": {
      "text/plain": [
       "array([[0.1461953 , 0.35589412, 0.00128148, ..., 0.15600012, 0.00379503,\n",
       "        0.05275397],\n",
       "       [0.21712334, 0.32229695, 0.05222702, ..., 0.13885565, 0.06336764,\n",
       "        0.1987941 ],\n",
       "       [0.09850168, 0.4027052 , 0.04387513, ..., 0.34336406, 0.        ,\n",
       "        0.06590948],\n",
       "       ...,\n",
       "       [0.31793803, 0.4188789 , 0.10545947, ..., 0.14957988, 0.00390814,\n",
       "        0.06057185],\n",
       "       [0.18194166, 0.31360835, 0.1461134 , ..., 0.224466  , 0.        ,\n",
       "        0.1300354 ],\n",
       "       [0.1399701 , 0.25296825, 0.01422854, ..., 0.2619371 , 0.        ,\n",
       "        0.10983873]], dtype=float32)"
      ]
     },
     "execution_count": 85,
     "metadata": {},
     "output_type": "execute_result"
    }
   ],
   "source": [
    "mouth_feature_train"
   ]
  },
  {
   "cell_type": "code",
   "execution_count": 86,
   "metadata": {},
   "outputs": [
    {
     "data": {
      "text/plain": [
       "array([[0.18394725, 0.29085273, 0.03777465, ..., 0.16872878, 0.        ,\n",
       "        0.10555789],\n",
       "       [0.13508227, 0.41149005, 0.19818395, ..., 0.25955006, 0.00143505,\n",
       "        0.12938598],\n",
       "       [0.10899442, 0.32366875, 0.06126782, ..., 0.24806482, 0.        ,\n",
       "        0.06103154],\n",
       "       ...,\n",
       "       [0.16554588, 0.23811716, 0.10104969, ..., 0.        , 0.2024291 ,\n",
       "        0.1967888 ],\n",
       "       [0.20337851, 0.22411947, 0.09475688, ..., 0.00762425, 0.16213353,\n",
       "        0.16851972],\n",
       "       [0.3021527 , 0.29472342, 0.13949192, ..., 0.13282964, 0.1772336 ,\n",
       "        0.20035324]], dtype=float32)"
      ]
     },
     "execution_count": 86,
     "metadata": {},
     "output_type": "execute_result"
    }
   ],
   "source": [
    "mouth_feature_valid"
   ]
  },
  {
   "cell_type": "code",
   "execution_count": 87,
   "metadata": {},
   "outputs": [],
   "source": [
    "concatenate_feature = Concatenate([feature_face_train, feature_face_valid, \n",
    "                                   eyes_feature_train, eyes_feature_valid, \n",
    "                                   mouth_feature_train, mouth_feature_valid])"
   ]
  },
  {
   "cell_type": "code",
   "execution_count": 88,
   "metadata": {},
   "outputs": [],
   "source": [
    "all_feature_model = Sequential()\n",
    "all_feature_model.add(concatenate_feature)\n",
    "\n",
    "all_feature_model.add(Dense(864, activation='relu'))\n",
    "all_feature_model.add(Dropout(0.5))\n",
    "all_feature_model.add(Dense(7, activation='softmax'))\n",
    "\n",
    "all_feature_model.compile(loss='categorical_crossentropy', \n",
    "                          optimizer=tf.keras.optimizers.legacy.Adam(learning_rate=0.0001, decay=1e-6), \n",
    "                          metrics=['accuracy'])\n"
   ]
  },
  {
   "cell_type": "code",
   "execution_count": 89,
   "metadata": {},
   "outputs": [
    {
     "ename": "ValueError",
     "evalue": "This model has not yet been built. Build the model first by calling `build()` or by calling the model on a batch of data.",
     "output_type": "error",
     "traceback": [
      "\u001b[1;31m---------------------------------------------------------------------------\u001b[0m",
      "\u001b[1;31mValueError\u001b[0m                                Traceback (most recent call last)",
      "Cell \u001b[1;32mIn[89], line 1\u001b[0m\n\u001b[1;32m----> 1\u001b[0m \u001b[43mall_feature_model\u001b[49m\u001b[38;5;241;43m.\u001b[39;49m\u001b[43msummary\u001b[49m\u001b[43m(\u001b[49m\u001b[43m)\u001b[49m\n",
      "File \u001b[1;32mc:\\Users\\ESPB\\miniconda3\\envs\\ml\\lib\\site-packages\\keras\\src\\engine\\training.py:3506\u001b[0m, in \u001b[0;36mModel.summary\u001b[1;34m(self, line_length, positions, print_fn, expand_nested, show_trainable, layer_range)\u001b[0m\n\u001b[0;32m   3475\u001b[0m \u001b[38;5;250m\u001b[39m\u001b[38;5;124;03m\"\"\"Prints a string summary of the network.\u001b[39;00m\n\u001b[0;32m   3476\u001b[0m \n\u001b[0;32m   3477\u001b[0m \u001b[38;5;124;03mArgs:\u001b[39;00m\n\u001b[1;32m   (...)\u001b[0m\n\u001b[0;32m   3503\u001b[0m \u001b[38;5;124;03m    ValueError: if `summary()` is called before the model is built.\u001b[39;00m\n\u001b[0;32m   3504\u001b[0m \u001b[38;5;124;03m\"\"\"\u001b[39;00m\n\u001b[0;32m   3505\u001b[0m \u001b[38;5;28;01mif\u001b[39;00m \u001b[38;5;129;01mnot\u001b[39;00m \u001b[38;5;28mself\u001b[39m\u001b[38;5;241m.\u001b[39mbuilt:\n\u001b[1;32m-> 3506\u001b[0m     \u001b[38;5;28;01mraise\u001b[39;00m \u001b[38;5;167;01mValueError\u001b[39;00m(\n\u001b[0;32m   3507\u001b[0m         \u001b[38;5;124m\"\u001b[39m\u001b[38;5;124mThis model has not yet been built. \u001b[39m\u001b[38;5;124m\"\u001b[39m\n\u001b[0;32m   3508\u001b[0m         \u001b[38;5;124m\"\u001b[39m\u001b[38;5;124mBuild the model first by calling `build()` or by calling \u001b[39m\u001b[38;5;124m\"\u001b[39m\n\u001b[0;32m   3509\u001b[0m         \u001b[38;5;124m\"\u001b[39m\u001b[38;5;124mthe model on a batch of data.\u001b[39m\u001b[38;5;124m\"\u001b[39m\n\u001b[0;32m   3510\u001b[0m     )\n\u001b[0;32m   3511\u001b[0m layer_utils\u001b[38;5;241m.\u001b[39mprint_summary(\n\u001b[0;32m   3512\u001b[0m     \u001b[38;5;28mself\u001b[39m,\n\u001b[0;32m   3513\u001b[0m     line_length\u001b[38;5;241m=\u001b[39mline_length,\n\u001b[1;32m   (...)\u001b[0m\n\u001b[0;32m   3518\u001b[0m     layer_range\u001b[38;5;241m=\u001b[39mlayer_range,\n\u001b[0;32m   3519\u001b[0m )\n",
      "\u001b[1;31mValueError\u001b[0m: This model has not yet been built. Build the model first by calling `build()` or by calling the model on a batch of data."
     ]
    }
   ],
   "source": [
    "all_feature_model.summary()"
   ]
  },
  {
   "cell_type": "code",
   "execution_count": null,
   "metadata": {},
   "outputs": [],
   "source": [
    "# from keras.layers import Input, concatenate, Dense, Flatten, Dropout, Conv2D, MaxPooling2D\n",
    "\n",
    "# # Input layers\n",
    "# face_layer = Input(shape=(38, 38, 1))\n",
    "# eyes_layer = Input(shape=(30, 62, 1))\n",
    "# mouth_layer = Input(shape=(30, 38, 1))\n",
    "\n",
    "# # Define the CNN blocks for each input\n",
    "# def convolutional_block(layer):\n",
    "#     conv = Conv2D(6, kernel_size=(3, 3), activation='relu')(layer)\n",
    "#     pool = MaxPooling2D(pool_size=(2, 2))(conv)\n",
    "#     conv = Conv2D(16, kernel_size=(3, 3), activation='relu')(pool)\n",
    "#     pool = MaxPooling2D(pool_size=(2, 2))(conv)\n",
    "#     conv = Conv2D(32, kernel_size=(3, 3), activation='relu')(pool)\n",
    "#     pool = MaxPooling2D(pool_size=(2, 2))(conv)\n",
    "#     flatten = Flatten()(pool)\n",
    "#     dense = Dense(1024, activation='relu')(flatten)\n",
    "#     dropout = Dropout(0.5)(dense)\n",
    "#     return dropout\n",
    "\n",
    "# # Apply the CNN blocks to each input\n",
    "# face_features = convolutional_block(face_layer)\n",
    "# eyes_features = convolutional_block(eyes_layer)\n",
    "# mouth_features = convolutional_block(mouth_layer)\n",
    "\n",
    "# # Concatenate the features\n",
    "# concatenated_features = concatenate([face_features, eyes_features, mouth_features])\n",
    "\n",
    "# # Define the Aggregated Feature Vector Fusion Layer\n",
    "# fusion_layer = Dense(864, activation='relu')(concatenated_features)\n",
    "\n",
    "# # Output layer\n",
    "# output_layer = Dense(7, activation='softmax')(fusion_layer)\n",
    "\n",
    "# # Define the model\n",
    "# model = Model(inputs=[face_layer, eyes_layer, mouth_layer], outputs=output_layer)\n",
    "\n",
    "# model.summary()\n"
   ]
  },
  {
   "cell_type": "code",
   "execution_count": null,
   "metadata": {},
   "outputs": [],
   "source": [
    "# import numpy as np\n",
    "# from keras.models import Sequential\n",
    "# from keras.layers import Conv2D, MaxPooling2D, Flatten\n",
    "# from keras.callbacks import Callback\n",
    "\n",
    "# # Fungsi untuk mendapatkan feature map dari lapisan tertentu\n",
    "# def get_feature_map(model, layer_name, input_data):\n",
    "#     intermediate_layer_model = Model(inputs=model.input, outputs=model.get_layer(layer_name).output)\n",
    "#     return intermediate_layer_model.predict(input_data)\n",
    "\n",
    "# # Callback untuk menyimpan feature map pada setiap epoch\n",
    "# class SaveFeatureMapCallback(Callback):\n",
    "#     def __init__(self, model, layer_name, input_data):\n",
    "#         self.model = model\n",
    "#         self.layer_name = layer_name\n",
    "#         self.input_data = input_data\n",
    "#         self.feature_maps = []\n",
    "\n",
    "#     def on_epoch_end(self, epoch, logs=None):\n",
    "#         feature_map = get_feature_map(self.model, self.layer_name, self.input_data)\n",
    "#         self.feature_maps.append(feature_map)\n",
    "\n",
    "# # Membuat model\n",
    "# face_emotion_model = Sequential()\n",
    "# face_emotion_model.add(Conv2D(6, kernel_size=(3, 3), activation='relu', input_shape=(38, 38, 1)))\n",
    "# face_emotion_model.add(MaxPooling2D(pool_size=(2, 2)))\n",
    "# face_emotion_model.add(Conv2D(16, kernel_size=(3, 3), activation='relu', input_shape=(18, 18, 6)))\n",
    "# face_emotion_model.add(MaxPooling2D(pool_size=(2, 2)))\n",
    "# face_emotion_model.add(Conv2D(32, kernel_size=(3, 3), activation='relu', input_shape=(8, 8, 1)))\n",
    "# face_emotion_model.add(MaxPooling2D(pool_size=(2, 2)))\n",
    "# face_emotion_model.add(Flatten())\n",
    "\n",
    "# # Tentukan lapisan yang ingin Anda ambil feature map-nya\n",
    "# layer_name = 'conv2d_1'  # Sesuaikan dengan nama lapisan yang sesuai dengan model Anda\n",
    "\n",
    "# # Buat dan tentukan callback\n",
    "# save_feature_map_callback = SaveFeatureMapCallback(face_emotion_model, layer_name, input_data)\n",
    "\n",
    "# # Latih model dengan callback\n",
    "# face_emotion_model.fit(input_data, y_train, epochs=10, callbacks=[save_feature_map_callback])\n",
    "\n",
    "# # Feature map sekarang dapat diakses melalui save_feature_map_callback.feature_maps\n"
   ]
  }
 ],
 "metadata": {
  "kernelspec": {
   "display_name": "ml",
   "language": "python",
   "name": "python3"
  },
  "language_info": {
   "codemirror_mode": {
    "name": "ipython",
    "version": 3
   },
   "file_extension": ".py",
   "mimetype": "text/x-python",
   "name": "python",
   "nbconvert_exporter": "python",
   "pygments_lexer": "ipython3",
   "version": "3.9.18"
  }
 },
 "nbformat": 4,
 "nbformat_minor": 2
}
