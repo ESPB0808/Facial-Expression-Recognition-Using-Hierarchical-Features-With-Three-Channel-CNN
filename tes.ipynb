{
 "cells": [
  {
   "cell_type": "code",
   "execution_count": 87,
   "metadata": {},
   "outputs": [],
   "source": [
    "import numpy as np\n",
    "import tensorflow as tf\n",
    "import matplotlib.pyplot as plt\n",
    "from keras.models import Sequential, Model\n",
    "from keras.layers import Conv2D, MaxPooling2D, Dense, Dropout, Flatten, Input, Concatenate, Reshape\n",
    "from keras.preprocessing.image import ImageDataGenerator"
   ]
  },
  {
   "cell_type": "code",
   "execution_count": 88,
   "metadata": {},
   "outputs": [],
   "source": [
    "face_train_gen = ImageDataGenerator(\n",
    "    rescale=1./255,\n",
    "    horizontal_flip=True,\n",
    "    brightness_range=(0.5, 0.6),\n",
    ")\n",
    "\n",
    "eyes_train_gen = ImageDataGenerator(\n",
    "    rescale=1./255,\n",
    "    horizontal_flip=True,\n",
    "    brightness_range=(0.5, 0.6),\n",
    ")\n",
    "\n",
    "mouth_train_gen = ImageDataGenerator(\n",
    "    rescale=1./255,\n",
    "    horizontal_flip=True,\n",
    "    brightness_range=(0.5, 0.6),\n",
    ")\n",
    "\n",
    "face_test_gen = ImageDataGenerator(\n",
    "    rescale=1./255,\n",
    "    horizontal_flip=True,\n",
    "    brightness_range=(0.5, 0.6),\n",
    ")\n",
    "\n",
    "eyes_test_gen = ImageDataGenerator(\n",
    "    rescale=1./255,\n",
    "    horizontal_flip=True,\n",
    "    brightness_range=(0.5, 0.6),\n",
    ")\n",
    "\n",
    "mouth_test_gen = ImageDataGenerator(\n",
    "    rescale=1./255,\n",
    "    horizontal_flip=True,\n",
    "    brightness_range=(0.5, 0.6),\n",
    ")"
   ]
  },
  {
   "cell_type": "code",
   "execution_count": 89,
   "metadata": {},
   "outputs": [
    {
     "name": "stdout",
     "output_type": "stream",
     "text": [
      "Found 776 images belonging to 7 classes.\n"
     ]
    }
   ],
   "source": [
    "face_train_generator = face_train_gen.flow_from_directory(\n",
    "    'data/train/face_train/',\n",
    "    target_size=(38, 38),\n",
    "    batch_size=64,\n",
    "    color_mode=\"grayscale\",\n",
    "    class_mode=\"categorical\"\n",
    ")"
   ]
  },
  {
   "cell_type": "code",
   "execution_count": 90,
   "metadata": {},
   "outputs": [
    {
     "name": "stdout",
     "output_type": "stream",
     "text": [
      "Found 777 images belonging to 7 classes.\n"
     ]
    }
   ],
   "source": [
    "eyes_train_generator = eyes_train_gen.flow_from_directory(\n",
    "    'data/train/eyes_train/',\n",
    "    target_size=(30, 62),\n",
    "    batch_size=64,\n",
    "    color_mode=\"grayscale\",\n",
    "    class_mode=\"categorical\"\n",
    ")"
   ]
  },
  {
   "cell_type": "code",
   "execution_count": 91,
   "metadata": {},
   "outputs": [
    {
     "name": "stdout",
     "output_type": "stream",
     "text": [
      "Found 769 images belonging to 7 classes.\n"
     ]
    }
   ],
   "source": [
    "mouth_train_generator = mouth_train_gen.flow_from_directory(\n",
    "    'data/train/mouth_train/',\n",
    "    target_size=(30, 38),\n",
    "    batch_size=64,\n",
    "    color_mode=\"grayscale\",\n",
    "    class_mode=\"categorical\"\n",
    ")"
   ]
  },
  {
   "cell_type": "code",
   "execution_count": 92,
   "metadata": {},
   "outputs": [
    {
     "name": "stdout",
     "output_type": "stream",
     "text": [
      "Found 181 images belonging to 7 classes.\n"
     ]
    }
   ],
   "source": [
    "face_valid_generator = face_test_gen.flow_from_directory(\n",
    "    'data/test/face_test/',\n",
    "    target_size=(38, 38),\n",
    "    batch_size=64,\n",
    "    color_mode=\"grayscale\",\n",
    "    class_mode=\"categorical\"\n",
    ")"
   ]
  },
  {
   "cell_type": "code",
   "execution_count": 93,
   "metadata": {},
   "outputs": [
    {
     "name": "stdout",
     "output_type": "stream",
     "text": [
      "Found 181 images belonging to 7 classes.\n"
     ]
    }
   ],
   "source": [
    "eyes_valid_generator = eyes_test_gen.flow_from_directory(\n",
    "    'data/test/eyes_test/',\n",
    "    target_size=(30, 62),\n",
    "    batch_size=64,\n",
    "    color_mode=\"grayscale\",\n",
    "    class_mode=\"categorical\"\n",
    ")"
   ]
  },
  {
   "cell_type": "code",
   "execution_count": 94,
   "metadata": {},
   "outputs": [
    {
     "name": "stdout",
     "output_type": "stream",
     "text": [
      "Found 181 images belonging to 7 classes.\n"
     ]
    }
   ],
   "source": [
    "mouth_valid_generator = mouth_test_gen.flow_from_directory(\n",
    "    'data/test/mouth_test/',\n",
    "    target_size=(30, 38),\n",
    "    batch_size=64,\n",
    "    color_mode=\"grayscale\",\n",
    "    class_mode=\"categorical\"\n",
    ")"
   ]
  },
  {
   "cell_type": "code",
   "execution_count": 95,
   "metadata": {},
   "outputs": [
    {
     "name": "stdout",
     "output_type": "stream",
     "text": [
      "Model: \"sequential_6\"\n",
      "_________________________________________________________________\n",
      " Layer (type)                Output Shape              Param #   \n",
      "=================================================================\n",
      " conv_1 (Conv2D)             (None, 36, 36, 6)         60        \n",
      "                                                                 \n",
      " pool_1 (MaxPooling2D)       (None, 18, 18, 6)         0         \n",
      "                                                                 \n",
      " conv_2 (Conv2D)             (None, 16, 16, 16)        880       \n",
      "                                                                 \n",
      " pool_2 (MaxPooling2D)       (None, 8, 8, 16)          0         \n",
      "                                                                 \n",
      " conv_3 (Conv2D)             (None, 6, 6, 32)          4640      \n",
      "                                                                 \n",
      " pool_3 (MaxPooling2D)       (None, 3, 3, 32)          0         \n",
      "                                                                 \n",
      " face_flatten (Flatten)      (None, 288)               0         \n",
      "                                                                 \n",
      " dense_14 (Dense)            (None, 1024)              295936    \n",
      "                                                                 \n",
      " dropout_6 (Dropout)         (None, 1024)              0         \n",
      "                                                                 \n",
      " dense_15 (Dense)            (None, 7)                 7175      \n",
      "                                                                 \n",
      "=================================================================\n",
      "Total params: 308691 (1.18 MB)\n",
      "Trainable params: 308691 (1.18 MB)\n",
      "Non-trainable params: 0 (0.00 Byte)\n",
      "_________________________________________________________________\n"
     ]
    }
   ],
   "source": [
    "#mean\n",
    "\n",
    "face_emotion_model = Sequential()\n",
    "\n",
    "face_emotion_model.add(Conv2D(6, kernel_size=(3, 3), activation='relu', input_shape=(38, 38, 1), name=\"conv_1\"))\n",
    "face_emotion_model.add(MaxPooling2D(pool_size=(2, 2), name=\"pool_1\"))\n",
    "\n",
    "face_emotion_model.add(Conv2D(16, kernel_size=(3, 3), activation='relu', input_shape=(18, 18, 6), name=\"conv_2\"))\n",
    "face_emotion_model.add(MaxPooling2D(pool_size=(2, 2), name=\"pool_2\"))\n",
    "\n",
    "face_emotion_model.add(Conv2D(32, kernel_size=(3, 3), activation='relu', input_shape=(8, 8, 1), name=\"conv_3\"))\n",
    "face_emotion_model.add(MaxPooling2D(pool_size=(2, 2), name=\"pool_3\"))\n",
    "\n",
    "face_emotion_model.add(Flatten(name=\"face_flatten\"))\n",
    "\n",
    "face_emotion_model.add(Dense(1024, activation='relu'))\n",
    "face_emotion_model.add(Dropout(0.25))\n",
    "\n",
    "face_emotion_model.add(Dense(7, activation='softmax'))\n",
    "\n",
    "face_emotion_model.compile(loss='categorical_crossentropy', optimizer=tf.keras.optimizers.legacy.Adam(learning_rate=0.0001, decay=1e-6), metrics=['accuracy'])\n",
    "\n",
    "face_emotion_model.summary()"
   ]
  },
  {
   "cell_type": "code",
   "execution_count": 96,
   "metadata": {},
   "outputs": [
    {
     "name": "stdout",
     "output_type": "stream",
     "text": [
      "Model: \"sequential_7\"\n",
      "_________________________________________________________________\n",
      " Layer (type)                Output Shape              Param #   \n",
      "=================================================================\n",
      " conv2d_12 (Conv2D)          (None, 28, 60, 6)         60        \n",
      "                                                                 \n",
      " max_pooling2d_12 (MaxPooli  (None, 14, 30, 6)         0         \n",
      " ng2D)                                                           \n",
      "                                                                 \n",
      " conv2d_13 (Conv2D)          (None, 12, 28, 16)        880       \n",
      "                                                                 \n",
      " max_pooling2d_13 (MaxPooli  (None, 6, 14, 16)         0         \n",
      " ng2D)                                                           \n",
      "                                                                 \n",
      " conv2d_14 (Conv2D)          (None, 4, 12, 32)         4640      \n",
      "                                                                 \n",
      " max_pooling2d_14 (MaxPooli  (None, 2, 6, 32)          0         \n",
      " ng2D)                                                           \n",
      "                                                                 \n",
      " eyes_flatten (Flatten)      (None, 384)               0         \n",
      "                                                                 \n",
      " dense_16 (Dense)            (None, 1024)              394240    \n",
      "                                                                 \n",
      " dropout_7 (Dropout)         (None, 1024)              0         \n",
      "                                                                 \n",
      " dense_17 (Dense)            (None, 7)                 7175      \n",
      "                                                                 \n",
      "=================================================================\n",
      "Total params: 406995 (1.55 MB)\n",
      "Trainable params: 406995 (1.55 MB)\n",
      "Non-trainable params: 0 (0.00 Byte)\n",
      "_________________________________________________________________\n"
     ]
    }
   ],
   "source": [
    "# variance\n",
    "\n",
    "eyes_emotion_model = Sequential()\n",
    "\n",
    "eyes_emotion_model.add(Conv2D(6, kernel_size=(3, 3), activation='relu', input_shape=(30, 62, 1)))\n",
    "eyes_emotion_model.add(MaxPooling2D(pool_size=(2, 2)))\n",
    "\n",
    "eyes_emotion_model.add(Conv2D(16, kernel_size=(3, 3), activation='relu', input_shape=(14, 30, 6)))\n",
    "eyes_emotion_model.add(MaxPooling2D(pool_size=(2, 2)))\n",
    "\n",
    "eyes_emotion_model.add(Conv2D(32, kernel_size=(3, 3), activation='relu', input_shape=(6, 14, 16)))\n",
    "eyes_emotion_model.add(MaxPooling2D(pool_size=(2, 2)))\n",
    "\n",
    "eyes_emotion_model.add(Flatten(name=\"eyes_flatten\"))\n",
    "\n",
    "eyes_emotion_model.add(Dense(1024, activation='relu'))\n",
    "eyes_emotion_model.add(Dropout(0.25))\n",
    "\n",
    "eyes_emotion_model.add(Dense(7, activation='softmax'))\n",
    "\n",
    "eyes_emotion_model.compile(loss='categorical_crossentropy', optimizer=tf.keras.optimizers.legacy.Adam(learning_rate=0.0001, decay=1e-6), metrics=['accuracy'])\n",
    "\n",
    "eyes_emotion_model.summary()"
   ]
  },
  {
   "cell_type": "code",
   "execution_count": 97,
   "metadata": {},
   "outputs": [
    {
     "name": "stdout",
     "output_type": "stream",
     "text": [
      "Model: \"sequential_8\"\n",
      "_________________________________________________________________\n",
      " Layer (type)                Output Shape              Param #   \n",
      "=================================================================\n",
      " conv2d_15 (Conv2D)          (None, 28, 36, 6)         60        \n",
      "                                                                 \n",
      " max_pooling2d_15 (MaxPooli  (None, 14, 18, 6)         0         \n",
      " ng2D)                                                           \n",
      "                                                                 \n",
      " conv2d_16 (Conv2D)          (None, 12, 16, 16)        880       \n",
      "                                                                 \n",
      " max_pooling2d_16 (MaxPooli  (None, 6, 8, 16)          0         \n",
      " ng2D)                                                           \n",
      "                                                                 \n",
      " conv2d_17 (Conv2D)          (None, 4, 6, 32)          4640      \n",
      "                                                                 \n",
      " max_pooling2d_17 (MaxPooli  (None, 2, 3, 32)          0         \n",
      " ng2D)                                                           \n",
      "                                                                 \n",
      " mouth_flatten (Flatten)     (None, 192)               0         \n",
      "                                                                 \n",
      " dense_18 (Dense)            (None, 1024)              197632    \n",
      "                                                                 \n",
      " dropout_8 (Dropout)         (None, 1024)              0         \n",
      "                                                                 \n",
      " dense_19 (Dense)            (None, 7)                 7175      \n",
      "                                                                 \n",
      "=================================================================\n",
      "Total params: 210387 (821.82 KB)\n",
      "Trainable params: 210387 (821.82 KB)\n",
      "Non-trainable params: 0 (0.00 Byte)\n",
      "_________________________________________________________________\n"
     ]
    }
   ],
   "source": [
    "# variance\n",
    "\n",
    "mouth_emotion_model = Sequential()\n",
    "\n",
    "mouth_emotion_model.add(Conv2D(6, kernel_size=(3, 3), activation='relu', input_shape=(30, 38, 1)))\n",
    "mouth_emotion_model.add(MaxPooling2D(pool_size=(2, 2)))\n",
    "\n",
    "mouth_emotion_model.add(Conv2D(16, kernel_size=(3, 3), activation='relu', input_shape=(14, 18, 6)))\n",
    "mouth_emotion_model.add(MaxPooling2D(pool_size=(2, 2)))\n",
    "\n",
    "mouth_emotion_model.add(Conv2D(32, kernel_size=(3, 3), activation='relu', input_shape=(6, 8, 16)))\n",
    "mouth_emotion_model.add(MaxPooling2D(pool_size=(2, 2)))\n",
    "\n",
    "mouth_emotion_model.add(Flatten(name=\"mouth_flatten\"))\n",
    "\n",
    "mouth_emotion_model.add(Dense(1024, activation='relu'))\n",
    "mouth_emotion_model.add(Dropout(0.25))\n",
    "\n",
    "mouth_emotion_model.add(Dense(7, activation='softmax'))\n",
    "\n",
    "mouth_emotion_model.compile(loss='categorical_crossentropy', optimizer=tf.keras.optimizers.legacy.Adam(learning_rate=0.0001, decay=1e-6), metrics=['accuracy'])\n",
    "\n",
    "mouth_emotion_model.summary()"
   ]
  },
  {
   "cell_type": "code",
   "execution_count": 98,
   "metadata": {},
   "outputs": [],
   "source": [
    "flatten_face = face_emotion_model.get_layer('face_flatten').output\n",
    "flatten_eyes = eyes_emotion_model.get_layer('eyes_flatten').output\n",
    "flatten_mouth = mouth_emotion_model.get_layer('mouth_flatten').output"
   ]
  },
  {
   "cell_type": "code",
   "execution_count": 99,
   "metadata": {},
   "outputs": [],
   "source": [
    "concatenated_features = Concatenate(axis=-1)([flatten_face, flatten_eyes, flatten_mouth])\n"
   ]
  },
  {
   "cell_type": "code",
   "execution_count": 100,
   "metadata": {},
   "outputs": [],
   "source": [
    "reshaped_features = Reshape((864, 1))(concatenated_features)"
   ]
  },
  {
   "cell_type": "code",
   "execution_count": 101,
   "metadata": {},
   "outputs": [],
   "source": [
    "output_layer = Dense(7, activation='softmax')(reshaped_features)"
   ]
  },
  {
   "cell_type": "code",
   "execution_count": 102,
   "metadata": {},
   "outputs": [],
   "source": [
    "feature_fusion_model = Model(inputs=[face_emotion_model.input, eyes_emotion_model.input, mouth_emotion_model.input], outputs=output_layer)\n"
   ]
  },
  {
   "cell_type": "code",
   "execution_count": 103,
   "metadata": {},
   "outputs": [],
   "source": [
    "feature_fusion_model.compile(loss='categorical_crossentropy', optimizer=tf.keras.optimizers.legacy.Adam(learning_rate=0.0001, decay=1e-6), metrics=['accuracy'])\n"
   ]
  },
  {
   "cell_type": "code",
   "execution_count": 104,
   "metadata": {},
   "outputs": [
    {
     "name": "stdout",
     "output_type": "stream",
     "text": [
      "Model: \"model_2\"\n",
      "__________________________________________________________________________________________________\n",
      " Layer (type)                Output Shape                 Param #   Connected to                  \n",
      "==================================================================================================\n",
      " conv_1_input (InputLayer)   [(None, 38, 38, 1)]          0         []                            \n",
      "                                                                                                  \n",
      " conv2d_12_input (InputLaye  [(None, 30, 62, 1)]          0         []                            \n",
      " r)                                                                                               \n",
      "                                                                                                  \n",
      " conv2d_15_input (InputLaye  [(None, 30, 38, 1)]          0         []                            \n",
      " r)                                                                                               \n",
      "                                                                                                  \n",
      " conv_1 (Conv2D)             (None, 36, 36, 6)            60        ['conv_1_input[0][0]']        \n",
      "                                                                                                  \n",
      " conv2d_12 (Conv2D)          (None, 28, 60, 6)            60        ['conv2d_12_input[0][0]']     \n",
      "                                                                                                  \n",
      " conv2d_15 (Conv2D)          (None, 28, 36, 6)            60        ['conv2d_15_input[0][0]']     \n",
      "                                                                                                  \n",
      " pool_1 (MaxPooling2D)       (None, 18, 18, 6)            0         ['conv_1[0][0]']              \n",
      "                                                                                                  \n",
      " max_pooling2d_12 (MaxPooli  (None, 14, 30, 6)            0         ['conv2d_12[0][0]']           \n",
      " ng2D)                                                                                            \n",
      "                                                                                                  \n",
      " max_pooling2d_15 (MaxPooli  (None, 14, 18, 6)            0         ['conv2d_15[0][0]']           \n",
      " ng2D)                                                                                            \n",
      "                                                                                                  \n",
      " conv_2 (Conv2D)             (None, 16, 16, 16)           880       ['pool_1[0][0]']              \n",
      "                                                                                                  \n",
      " conv2d_13 (Conv2D)          (None, 12, 28, 16)           880       ['max_pooling2d_12[0][0]']    \n",
      "                                                                                                  \n",
      " conv2d_16 (Conv2D)          (None, 12, 16, 16)           880       ['max_pooling2d_15[0][0]']    \n",
      "                                                                                                  \n",
      " pool_2 (MaxPooling2D)       (None, 8, 8, 16)             0         ['conv_2[0][0]']              \n",
      "                                                                                                  \n",
      " max_pooling2d_13 (MaxPooli  (None, 6, 14, 16)            0         ['conv2d_13[0][0]']           \n",
      " ng2D)                                                                                            \n",
      "                                                                                                  \n",
      " max_pooling2d_16 (MaxPooli  (None, 6, 8, 16)             0         ['conv2d_16[0][0]']           \n",
      " ng2D)                                                                                            \n",
      "                                                                                                  \n",
      " conv_3 (Conv2D)             (None, 6, 6, 32)             4640      ['pool_2[0][0]']              \n",
      "                                                                                                  \n",
      " conv2d_14 (Conv2D)          (None, 4, 12, 32)            4640      ['max_pooling2d_13[0][0]']    \n",
      "                                                                                                  \n",
      " conv2d_17 (Conv2D)          (None, 4, 6, 32)             4640      ['max_pooling2d_16[0][0]']    \n",
      "                                                                                                  \n",
      " pool_3 (MaxPooling2D)       (None, 3, 3, 32)             0         ['conv_3[0][0]']              \n",
      "                                                                                                  \n",
      " max_pooling2d_14 (MaxPooli  (None, 2, 6, 32)             0         ['conv2d_14[0][0]']           \n",
      " ng2D)                                                                                            \n",
      "                                                                                                  \n",
      " max_pooling2d_17 (MaxPooli  (None, 2, 3, 32)             0         ['conv2d_17[0][0]']           \n",
      " ng2D)                                                                                            \n",
      "                                                                                                  \n",
      " face_flatten (Flatten)      (None, 288)                  0         ['pool_3[0][0]']              \n",
      "                                                                                                  \n",
      " eyes_flatten (Flatten)      (None, 384)                  0         ['max_pooling2d_14[0][0]']    \n",
      "                                                                                                  \n",
      " mouth_flatten (Flatten)     (None, 192)                  0         ['max_pooling2d_17[0][0]']    \n",
      "                                                                                                  \n",
      " concatenate_2 (Concatenate  (None, 864)                  0         ['face_flatten[0][0]',        \n",
      " )                                                                   'eyes_flatten[0][0]',        \n",
      "                                                                     'mouth_flatten[0][0]']       \n",
      "                                                                                                  \n",
      " reshape_2 (Reshape)         (None, 864, 1)               0         ['concatenate_2[0][0]']       \n",
      "                                                                                                  \n",
      " dense_20 (Dense)            (None, 864, 7)               14        ['reshape_2[0][0]']           \n",
      "                                                                                                  \n",
      "==================================================================================================\n",
      "Total params: 16754 (65.45 KB)\n",
      "Trainable params: 16754 (65.45 KB)\n",
      "Non-trainable params: 0 (0.00 Byte)\n",
      "__________________________________________________________________________________________________\n"
     ]
    }
   ],
   "source": [
    "feature_fusion_model.summary()"
   ]
  },
  {
   "cell_type": "code",
   "execution_count": 105,
   "metadata": {},
   "outputs": [
    {
     "ename": "ValueError",
     "evalue": "Failed to find data adapter that can handle input: (<class 'list'> containing values of types {\"<class 'keras.src.preprocessing.image.DirectoryIterator'>\"}), <class 'NoneType'>",
     "output_type": "error",
     "traceback": [
      "\u001b[1;31m---------------------------------------------------------------------------\u001b[0m",
      "\u001b[1;31mValueError\u001b[0m                                Traceback (most recent call last)",
      "Cell \u001b[1;32mIn[105], line 1\u001b[0m\n\u001b[1;32m----> 1\u001b[0m train \u001b[38;5;241m=\u001b[39m  \u001b[43mfeature_fusion_model\u001b[49m\u001b[38;5;241;43m.\u001b[39;49m\u001b[43mfit\u001b[49m\u001b[43m(\u001b[49m\n\u001b[0;32m      2\u001b[0m \u001b[43m    \u001b[49m\u001b[43mx\u001b[49m\u001b[38;5;241;43m=\u001b[39;49m\u001b[43m[\u001b[49m\u001b[43mface_train_generator\u001b[49m\u001b[43m,\u001b[49m\u001b[43m \u001b[49m\u001b[43meyes_train_generator\u001b[49m\u001b[43m,\u001b[49m\u001b[43m \u001b[49m\u001b[43mmouth_train_generator\u001b[49m\u001b[43m]\u001b[49m\u001b[43m,\u001b[49m\n\u001b[0;32m      3\u001b[0m \u001b[43m    \u001b[49m\u001b[43msteps_per_epoch\u001b[49m\u001b[38;5;241;43m=\u001b[39;49m\u001b[43m \u001b[49m\u001b[38;5;241;43m776\u001b[39;49m\u001b[43m \u001b[49m\u001b[38;5;241;43m/\u001b[39;49m\u001b[38;5;241;43m/\u001b[39;49m\u001b[43m \u001b[49m\u001b[38;5;241;43m64\u001b[39;49m\u001b[43m,\u001b[49m\n\u001b[0;32m      4\u001b[0m \u001b[43m    \u001b[49m\u001b[43mepochs\u001b[49m\u001b[38;5;241;43m=\u001b[39;49m\u001b[38;5;241;43m10\u001b[39;49m\u001b[43m,\u001b[49m\n\u001b[0;32m      5\u001b[0m \u001b[43m    \u001b[49m\u001b[43mvalidation_data\u001b[49m\u001b[38;5;241;43m=\u001b[39;49m\u001b[43m[\u001b[49m\u001b[43m(\u001b[49m\u001b[43mface_valid_generator\u001b[49m\u001b[43m,\u001b[49m\u001b[43m \u001b[49m\u001b[43meyes_valid_generator\u001b[49m\u001b[43m,\u001b[49m\u001b[43m \u001b[49m\u001b[43mmouth_valid_generator\u001b[49m\u001b[43m)\u001b[49m\u001b[43m]\u001b[49m\u001b[43m,\u001b[49m\n\u001b[0;32m      6\u001b[0m \u001b[43m    \u001b[49m\u001b[43mvalidation_steps\u001b[49m\u001b[38;5;241;43m=\u001b[39;49m\u001b[43m \u001b[49m\u001b[38;5;241;43m181\u001b[39;49m\u001b[43m \u001b[49m\u001b[38;5;241;43m/\u001b[39;49m\u001b[38;5;241;43m/\u001b[39;49m\u001b[43m \u001b[49m\u001b[38;5;241;43m64\u001b[39;49m\u001b[43m  \u001b[49m\n\u001b[0;32m      7\u001b[0m \u001b[43m)\u001b[49m\n",
      "File \u001b[1;32mc:\\Users\\ESPB\\miniconda3\\envs\\ml\\lib\\site-packages\\keras\\src\\utils\\traceback_utils.py:70\u001b[0m, in \u001b[0;36mfilter_traceback.<locals>.error_handler\u001b[1;34m(*args, **kwargs)\u001b[0m\n\u001b[0;32m     67\u001b[0m     filtered_tb \u001b[38;5;241m=\u001b[39m _process_traceback_frames(e\u001b[38;5;241m.\u001b[39m__traceback__)\n\u001b[0;32m     68\u001b[0m     \u001b[38;5;66;03m# To get the full stack trace, call:\u001b[39;00m\n\u001b[0;32m     69\u001b[0m     \u001b[38;5;66;03m# `tf.debugging.disable_traceback_filtering()`\u001b[39;00m\n\u001b[1;32m---> 70\u001b[0m     \u001b[38;5;28;01mraise\u001b[39;00m e\u001b[38;5;241m.\u001b[39mwith_traceback(filtered_tb) \u001b[38;5;28;01mfrom\u001b[39;00m \u001b[38;5;28;01mNone\u001b[39;00m\n\u001b[0;32m     71\u001b[0m \u001b[38;5;28;01mfinally\u001b[39;00m:\n\u001b[0;32m     72\u001b[0m     \u001b[38;5;28;01mdel\u001b[39;00m filtered_tb\n",
      "File \u001b[1;32mc:\\Users\\ESPB\\miniconda3\\envs\\ml\\lib\\site-packages\\keras\\src\\engine\\data_adapter.py:1105\u001b[0m, in \u001b[0;36mselect_data_adapter\u001b[1;34m(x, y)\u001b[0m\n\u001b[0;32m   1102\u001b[0m adapter_cls \u001b[38;5;241m=\u001b[39m [\u001b[38;5;28mcls\u001b[39m \u001b[38;5;28;01mfor\u001b[39;00m \u001b[38;5;28mcls\u001b[39m \u001b[38;5;129;01min\u001b[39;00m ALL_ADAPTER_CLS \u001b[38;5;28;01mif\u001b[39;00m \u001b[38;5;28mcls\u001b[39m\u001b[38;5;241m.\u001b[39mcan_handle(x, y)]\n\u001b[0;32m   1103\u001b[0m \u001b[38;5;28;01mif\u001b[39;00m \u001b[38;5;129;01mnot\u001b[39;00m adapter_cls:\n\u001b[0;32m   1104\u001b[0m     \u001b[38;5;66;03m# TODO(scottzhu): This should be a less implementation-specific error.\u001b[39;00m\n\u001b[1;32m-> 1105\u001b[0m     \u001b[38;5;28;01mraise\u001b[39;00m \u001b[38;5;167;01mValueError\u001b[39;00m(\n\u001b[0;32m   1106\u001b[0m         \u001b[38;5;124m\"\u001b[39m\u001b[38;5;124mFailed to find data adapter that can handle input: \u001b[39m\u001b[38;5;132;01m{}\u001b[39;00m\u001b[38;5;124m, \u001b[39m\u001b[38;5;132;01m{}\u001b[39;00m\u001b[38;5;124m\"\u001b[39m\u001b[38;5;241m.\u001b[39mformat(\n\u001b[0;32m   1107\u001b[0m             _type_name(x), _type_name(y)\n\u001b[0;32m   1108\u001b[0m         )\n\u001b[0;32m   1109\u001b[0m     )\n\u001b[0;32m   1110\u001b[0m \u001b[38;5;28;01melif\u001b[39;00m \u001b[38;5;28mlen\u001b[39m(adapter_cls) \u001b[38;5;241m>\u001b[39m \u001b[38;5;241m1\u001b[39m:\n\u001b[0;32m   1111\u001b[0m     \u001b[38;5;28;01mraise\u001b[39;00m \u001b[38;5;167;01mRuntimeError\u001b[39;00m(\n\u001b[0;32m   1112\u001b[0m         \u001b[38;5;124m\"\u001b[39m\u001b[38;5;124mData adapters should be mutually exclusive for \u001b[39m\u001b[38;5;124m\"\u001b[39m\n\u001b[0;32m   1113\u001b[0m         \u001b[38;5;124m\"\u001b[39m\u001b[38;5;124mhandling inputs. Found multiple adapters \u001b[39m\u001b[38;5;132;01m{}\u001b[39;00m\u001b[38;5;124m to handle \u001b[39m\u001b[38;5;124m\"\u001b[39m\n\u001b[0;32m   1114\u001b[0m         \u001b[38;5;124m\"\u001b[39m\u001b[38;5;124minput: \u001b[39m\u001b[38;5;132;01m{}\u001b[39;00m\u001b[38;5;124m, \u001b[39m\u001b[38;5;132;01m{}\u001b[39;00m\u001b[38;5;124m\"\u001b[39m\u001b[38;5;241m.\u001b[39mformat(adapter_cls, _type_name(x), _type_name(y))\n\u001b[0;32m   1115\u001b[0m     )\n",
      "\u001b[1;31mValueError\u001b[0m: Failed to find data adapter that can handle input: (<class 'list'> containing values of types {\"<class 'keras.src.preprocessing.image.DirectoryIterator'>\"}), <class 'NoneType'>"
     ]
    }
   ],
   "source": [
    "train =  feature_fusion_model.fit(\n",
    "    x=[face_train_generator, eyes_train_generator, mouth_train_generator],\n",
    "    steps_per_epoch= 776 // 64,\n",
    "    epochs=10,\n",
    "    validation_data=[(face_valid_generator, eyes_valid_generator, mouth_valid_generator)],\n",
    "    validation_steps= 181 // 64  \n",
    ")"
   ]
  }
 ],
 "metadata": {
  "kernelspec": {
   "display_name": "ml",
   "language": "python",
   "name": "python3"
  },
  "language_info": {
   "codemirror_mode": {
    "name": "ipython",
    "version": 3
   },
   "file_extension": ".py",
   "mimetype": "text/x-python",
   "name": "python",
   "nbconvert_exporter": "python",
   "pygments_lexer": "ipython3",
   "version": "3.9.18"
  }
 },
 "nbformat": 4,
 "nbformat_minor": 2
}
