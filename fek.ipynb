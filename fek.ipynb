{
 "cells": [
  {
   "cell_type": "code",
   "execution_count": 1,
   "metadata": {},
   "outputs": [
    {
     "name": "stdout",
     "output_type": "stream",
     "text": [
      "WARNING:tensorflow:From c:\\Users\\ESPB\\miniconda3\\envs\\ml\\lib\\site-packages\\keras\\src\\losses.py:2976: The name tf.losses.sparse_softmax_cross_entropy is deprecated. Please use tf.compat.v1.losses.sparse_softmax_cross_entropy instead.\n",
      "\n"
     ]
    }
   ],
   "source": [
    "import numpy as np\n",
    "import tensorflow as tf\n",
    "import matplotlib.pyplot as plt\n",
    "import cv2\n",
    "from keras.models import Sequential, Model\n",
    "from keras.layers import Conv2D, MaxPooling2D, Dense, Dropout, Flatten, Input, Concatenate, Reshape\n",
    "from keras.preprocessing.image import ImageDataGenerator\n",
    "from keras.utils import to_categorical, Sequence\n",
    "from sklearn import metrics"
   ]
  },
  {
   "cell_type": "markdown",
   "metadata": {},
   "source": [
    "# Augmentation"
   ]
  },
  {
   "cell_type": "code",
   "execution_count": 2,
   "metadata": {},
   "outputs": [],
   "source": [
    "face_train_gen = ImageDataGenerator(\n",
    "    rescale=1./255,\n",
    "    horizontal_flip=True,\n",
    "    brightness_range=(0.5, 0.6),\n",
    ")\n",
    "\n",
    "eyes_train_gen = ImageDataGenerator(\n",
    "    rescale=1./255,\n",
    "    horizontal_flip=True,\n",
    "    brightness_range=(0.5, 0.6),\n",
    ")\n",
    "\n",
    "mouth_train_gen = ImageDataGenerator(\n",
    "    rescale=1./255,\n",
    "    horizontal_flip=True,\n",
    "    brightness_range=(0.5, 0.6),\n",
    ")\n",
    "\n",
    "face_test_gen = ImageDataGenerator(\n",
    "    rescale=1./255,\n",
    "    horizontal_flip=True,\n",
    "    brightness_range=(0.5, 0.6),\n",
    ")\n",
    "\n",
    "eyes_test_gen = ImageDataGenerator(\n",
    "    rescale=1./255,\n",
    "    horizontal_flip=True,\n",
    "    brightness_range=(0.5, 0.6),\n",
    ")\n",
    "\n",
    "mouth_test_gen = ImageDataGenerator(\n",
    "    rescale=1./255,\n",
    "    horizontal_flip=True,\n",
    "    brightness_range=(0.5, 0.6),\n",
    ")"
   ]
  },
  {
   "cell_type": "markdown",
   "metadata": {},
   "source": [
    "# Train & Test Generator"
   ]
  },
  {
   "cell_type": "code",
   "execution_count": 3,
   "metadata": {},
   "outputs": [
    {
     "name": "stdout",
     "output_type": "stream",
     "text": [
      "Found 776 images belonging to 7 classes.\n",
      "Found 777 images belonging to 7 classes.\n",
      "Found 769 images belonging to 7 classes.\n",
      "Found 181 images belonging to 7 classes.\n",
      "Found 181 images belonging to 7 classes.\n",
      "Found 181 images belonging to 7 classes.\n"
     ]
    }
   ],
   "source": [
    "face_train_generator = face_train_gen.flow_from_directory(\n",
    "    'data/train/face_train/',\n",
    "    target_size=(38, 38),\n",
    "    batch_size=64,\n",
    "    color_mode=\"grayscale\",\n",
    "    class_mode=\"categorical\"\n",
    ")\n",
    "\n",
    "eyes_train_generator = eyes_train_gen.flow_from_directory(\n",
    "    'data/train/eyes_train/',\n",
    "    target_size=(30, 62),\n",
    "    batch_size=64,\n",
    "    color_mode=\"grayscale\",\n",
    "    class_mode=\"categorical\"\n",
    ")\n",
    "\n",
    "mouth_train_generator = mouth_train_gen.flow_from_directory(\n",
    "    'data/train/mouth_train/',\n",
    "    target_size=(30, 38),\n",
    "    batch_size=64,\n",
    "    color_mode=\"grayscale\",\n",
    "    class_mode=\"categorical\"\n",
    ")\n",
    "\n",
    "face_valid_generator = face_test_gen.flow_from_directory(\n",
    "    'data/test/face_test/',\n",
    "    target_size=(38, 38),\n",
    "    batch_size=64,\n",
    "    color_mode=\"grayscale\",\n",
    "    class_mode=\"categorical\"\n",
    ")\n",
    "\n",
    "eyes_valid_generator = eyes_test_gen.flow_from_directory(\n",
    "    'data/test/eyes_test/',\n",
    "    target_size=(30, 62),\n",
    "    batch_size=64,\n",
    "    color_mode=\"grayscale\",\n",
    "    class_mode=\"categorical\"\n",
    ")\n",
    "\n",
    "mouth_valid_generator = mouth_test_gen.flow_from_directory(\n",
    "    'data/test/mouth_test/',\n",
    "    target_size=(30, 38),\n",
    "    batch_size=64,\n",
    "    color_mode=\"grayscale\",\n",
    "    class_mode=\"categorical\"\n",
    ")"
   ]
  },
  {
   "cell_type": "markdown",
   "metadata": {},
   "source": [
    "# Build The Three Channel Convolutional Neural Network"
   ]
  },
  {
   "cell_type": "markdown",
   "metadata": {},
   "source": [
    "## Mean (Face)"
   ]
  },
  {
   "cell_type": "code",
   "execution_count": 4,
   "metadata": {},
   "outputs": [
    {
     "name": "stdout",
     "output_type": "stream",
     "text": [
      "WARNING:tensorflow:From c:\\Users\\ESPB\\miniconda3\\envs\\ml\\lib\\site-packages\\keras\\src\\backend.py:873: The name tf.get_default_graph is deprecated. Please use tf.compat.v1.get_default_graph instead.\n",
      "\n",
      "WARNING:tensorflow:From c:\\Users\\ESPB\\miniconda3\\envs\\ml\\lib\\site-packages\\keras\\src\\layers\\pooling\\max_pooling2d.py:161: The name tf.nn.max_pool is deprecated. Please use tf.nn.max_pool2d instead.\n",
      "\n",
      "Model: \"sequential\"\n",
      "_________________________________________________________________\n",
      " Layer (type)                Output Shape              Param #   \n",
      "=================================================================\n",
      " conv_1 (Conv2D)             (None, 36, 36, 6)         60        \n",
      "                                                                 \n",
      " pool_1 (MaxPooling2D)       (None, 18, 18, 6)         0         \n",
      "                                                                 \n",
      " conv_2 (Conv2D)             (None, 16, 16, 16)        880       \n",
      "                                                                 \n",
      " pool_2 (MaxPooling2D)       (None, 8, 8, 16)          0         \n",
      "                                                                 \n",
      " conv_3 (Conv2D)             (None, 6, 6, 32)          4640      \n",
      "                                                                 \n",
      " pool_3 (MaxPooling2D)       (None, 3, 3, 32)          0         \n",
      "                                                                 \n",
      " face_flatten (Flatten)      (None, 288)               0         \n",
      "                                                                 \n",
      " dense (Dense)               (None, 1024)              295936    \n",
      "                                                                 \n",
      " dense_1 (Dense)             (None, 7)                 7175      \n",
      "                                                                 \n",
      "=================================================================\n",
      "Total params: 308691 (1.18 MB)\n",
      "Trainable params: 308691 (1.18 MB)\n",
      "Non-trainable params: 0 (0.00 Byte)\n",
      "_________________________________________________________________\n"
     ]
    }
   ],
   "source": [
    "face_emotion_model = Sequential()\n",
    "\n",
    "face_emotion_model.add(Conv2D(6, kernel_size=(3, 3), activation='relu', input_shape=(38, 38, 1), name=\"conv_1\"))\n",
    "face_emotion_model.add(MaxPooling2D(pool_size=(2, 2), name=\"pool_1\"))\n",
    "\n",
    "face_emotion_model.add(Conv2D(16, kernel_size=(3, 3), activation='relu', input_shape=(18, 18, 6), name=\"conv_2\"))\n",
    "face_emotion_model.add(MaxPooling2D(pool_size=(2, 2), name=\"pool_2\"))\n",
    "\n",
    "face_emotion_model.add(Conv2D(32, kernel_size=(3, 3), activation='relu', input_shape=(8, 8, 1), name=\"conv_3\"))\n",
    "face_emotion_model.add(MaxPooling2D(pool_size=(2, 2), name=\"pool_3\"))\n",
    "\n",
    "face_emotion_model.add(Flatten(name=\"face_flatten\"))\n",
    "\n",
    "face_emotion_model.add(Dense(1024, activation='relu'))\n",
    "# face_emotion_model.add(Dropout(0.25))\n",
    "\n",
    "face_emotion_model.add(Dense(7, activation='softmax'))\n",
    "\n",
    "face_emotion_model.compile(loss='categorical_crossentropy', optimizer=tf.keras.optimizers.legacy.Adam(learning_rate=0.0001, decay=1e-6), metrics=['accuracy'])\n",
    "\n",
    "face_emotion_model.summary()"
   ]
  },
  {
   "cell_type": "code",
   "execution_count": 5,
   "metadata": {},
   "outputs": [
    {
     "name": "stdout",
     "output_type": "stream",
     "text": [
      "Epoch 1/10\n",
      "WARNING:tensorflow:From c:\\Users\\ESPB\\miniconda3\\envs\\ml\\lib\\site-packages\\keras\\src\\utils\\tf_utils.py:492: The name tf.ragged.RaggedTensorValue is deprecated. Please use tf.compat.v1.ragged.RaggedTensorValue instead.\n",
      "\n",
      "WARNING:tensorflow:From c:\\Users\\ESPB\\miniconda3\\envs\\ml\\lib\\site-packages\\keras\\src\\engine\\base_layer_utils.py:384: The name tf.executing_eagerly_outside_functions is deprecated. Please use tf.compat.v1.executing_eagerly_outside_functions instead.\n",
      "\n",
      "12/12 [==============================] - 1s 35ms/step - loss: 1.9417 - accuracy: 0.1756 - val_loss: 1.9460 - val_accuracy: 0.1172\n",
      "Epoch 2/10\n",
      "12/12 [==============================] - 0s 24ms/step - loss: 1.9297 - accuracy: 0.1896 - val_loss: 1.9543 - val_accuracy: 0.1250\n",
      "Epoch 3/10\n",
      "12/12 [==============================] - 0s 21ms/step - loss: 1.9255 - accuracy: 0.1910 - val_loss: 1.9599 - val_accuracy: 0.1484\n",
      "Epoch 4/10\n",
      "12/12 [==============================] - 0s 23ms/step - loss: 1.9171 - accuracy: 0.1966 - val_loss: 1.9540 - val_accuracy: 0.1484\n",
      "Epoch 5/10\n",
      "12/12 [==============================] - 0s 23ms/step - loss: 1.9167 - accuracy: 0.1910 - val_loss: 1.9748 - val_accuracy: 0.1250\n",
      "Epoch 6/10\n",
      "12/12 [==============================] - 0s 22ms/step - loss: 1.9075 - accuracy: 0.1952 - val_loss: 1.9661 - val_accuracy: 0.1484\n",
      "Epoch 7/10\n",
      "12/12 [==============================] - 0s 23ms/step - loss: 1.9052 - accuracy: 0.1868 - val_loss: 1.9655 - val_accuracy: 0.1328\n",
      "Epoch 8/10\n",
      "12/12 [==============================] - 0s 26ms/step - loss: 1.8952 - accuracy: 0.1980 - val_loss: 1.9721 - val_accuracy: 0.1172\n",
      "Epoch 9/10\n",
      "12/12 [==============================] - 0s 22ms/step - loss: 1.8934 - accuracy: 0.1952 - val_loss: 1.9825 - val_accuracy: 0.1016\n",
      "Epoch 10/10\n",
      "12/12 [==============================] - 0s 21ms/step - loss: 1.8847 - accuracy: 0.1980 - val_loss: 1.9535 - val_accuracy: 0.1797\n"
     ]
    }
   ],
   "source": [
    "face_train = face_emotion_model.fit(\n",
    "    face_train_generator,\n",
    "    steps_per_epoch= 776 // 64,\n",
    "    epochs=10,\n",
    "    validation_data=face_valid_generator,\n",
    "    validation_steps= 181 // 64  \n",
    ")"
   ]
  },
  {
   "cell_type": "markdown",
   "metadata": {},
   "source": [
    "Plotting training and validation accuracy"
   ]
  },
  {
   "cell_type": "code",
   "execution_count": 6,
   "metadata": {},
   "outputs": [
    {
     "name": "stdout",
     "output_type": "stream",
     "text": [
      "Training: 0.19803370535373688\n",
      "Validation: 0.1796875\n"
     ]
    },
    {
     "data": {
      "image/png": "[encoded data removed]",
      "text/plain": [
       "<Figure size 640x480 with 1 Axes>"
      ]
     },
     "metadata": {},
     "output_type": "display_data"
    }
   ],
   "source": [
    "print(\"Training:\", face_train.history['accuracy'][-1])\n",
    "print(\"Validation:\", face_train.history['val_accuracy'][-1])\n",
    "\n",
    "plt.plot(face_train.history['accuracy'], label='Training Accuracy')\n",
    "plt.plot(face_train.history['val_accuracy'], label='Validation Accuracy')\n",
    "plt.xlabel('Epoch')\n",
    "plt.ylabel('Accuracy')\n",
    "plt.legend()\n",
    "plt.show()"
   ]
  },
  {
   "cell_type": "markdown",
   "metadata": {},
   "source": [
    "## Variance (Eyes & Eyebrows)"
   ]
  },
  {
   "cell_type": "code",
   "execution_count": 7,
   "metadata": {},
   "outputs": [
    {
     "name": "stdout",
     "output_type": "stream",
     "text": [
      "Model: \"sequential_1\"\n",
      "_________________________________________________________________\n",
      " Layer (type)                Output Shape              Param #   \n",
      "=================================================================\n",
      " conv2d (Conv2D)             (None, 28, 60, 6)         60        \n",
      "                                                                 \n",
      " max_pooling2d (MaxPooling2  (None, 14, 30, 6)         0         \n",
      " D)                                                              \n",
      "                                                                 \n",
      " conv2d_1 (Conv2D)           (None, 12, 28, 16)        880       \n",
      "                                                                 \n",
      " max_pooling2d_1 (MaxPoolin  (None, 6, 14, 16)         0         \n",
      " g2D)                                                            \n",
      "                                                                 \n",
      " conv2d_2 (Conv2D)           (None, 4, 12, 32)         4640      \n",
      "                                                                 \n",
      " max_pooling2d_2 (MaxPoolin  (None, 2, 6, 32)          0         \n",
      " g2D)                                                            \n",
      "                                                                 \n",
      " eyes_flatten (Flatten)      (None, 384)               0         \n",
      "                                                                 \n",
      " dense_2 (Dense)             (None, 1024)              394240    \n",
      "                                                                 \n",
      " dense_3 (Dense)             (None, 7)                 7175      \n",
      "                                                                 \n",
      "=================================================================\n",
      "Total params: 406995 (1.55 MB)\n",
      "Trainable params: 406995 (1.55 MB)\n",
      "Non-trainable params: 0 (0.00 Byte)\n",
      "_________________________________________________________________\n"
     ]
    }
   ],
   "source": [
    "eyes_emotion_model = Sequential()\n",
    "\n",
    "eyes_emotion_model.add(Conv2D(6, kernel_size=(3, 3), activation='relu', input_shape=(30, 62, 1)))\n",
    "eyes_emotion_model.add(MaxPooling2D(pool_size=(2, 2)))\n",
    "\n",
    "eyes_emotion_model.add(Conv2D(16, kernel_size=(3, 3), activation='relu', input_shape=(14, 30, 6)))\n",
    "eyes_emotion_model.add(MaxPooling2D(pool_size=(2, 2)))\n",
    "\n",
    "eyes_emotion_model.add(Conv2D(32, kernel_size=(3, 3), activation='relu', input_shape=(6, 14, 16)))\n",
    "eyes_emotion_model.add(MaxPooling2D(pool_size=(2, 2)))\n",
    "\n",
    "eyes_emotion_model.add(Flatten(name=\"eyes_flatten\"))\n",
    "\n",
    "eyes_emotion_model.add(Dense(1024, activation='relu'))\n",
    "# eyes_emotion_model.add(Dropout(0.25))\n",
    "\n",
    "eyes_emotion_model.add(Dense(7, activation='softmax'))\n",
    "\n",
    "eyes_emotion_model.compile(loss='categorical_crossentropy', optimizer=tf.keras.optimizers.legacy.Adam(learning_rate=0.0001, decay=1e-6), metrics=['accuracy'])\n",
    "\n",
    "eyes_emotion_model.summary()"
   ]
  },
  {
   "cell_type": "code",
   "execution_count": 8,
   "metadata": {},
   "outputs": [
    {
     "name": "stdout",
     "output_type": "stream",
     "text": [
      "Epoch 1/10\n",
      "12/12 [==============================] - 1s 39ms/step - loss: 1.9398 - accuracy: 0.1680 - val_loss: 1.9469 - val_accuracy: 0.1406\n",
      "Epoch 2/10\n",
      "12/12 [==============================] - 0s 28ms/step - loss: 1.9312 - accuracy: 0.1921 - val_loss: 1.9572 - val_accuracy: 0.1250\n",
      "Epoch 3/10\n",
      "12/12 [==============================] - 0s 28ms/step - loss: 1.9260 - accuracy: 0.1935 - val_loss: 1.9742 - val_accuracy: 0.1016\n",
      "Epoch 4/10\n",
      "12/12 [==============================] - 0s 25ms/step - loss: 1.9194 - accuracy: 0.1978 - val_loss: 1.9616 - val_accuracy: 0.1172\n",
      "Epoch 5/10\n",
      "12/12 [==============================] - 0s 26ms/step - loss: 1.9197 - accuracy: 0.1893 - val_loss: 1.9677 - val_accuracy: 0.1250\n",
      "Epoch 6/10\n",
      "12/12 [==============================] - 0s 25ms/step - loss: 1.9158 - accuracy: 0.1921 - val_loss: 1.9668 - val_accuracy: 0.1250\n",
      "Epoch 7/10\n",
      "12/12 [==============================] - 0s 24ms/step - loss: 1.9135 - accuracy: 0.1935 - val_loss: 1.9646 - val_accuracy: 0.1797\n",
      "Epoch 8/10\n",
      "12/12 [==============================] - 0s 27ms/step - loss: 1.9064 - accuracy: 0.1964 - val_loss: 1.9665 - val_accuracy: 0.1328\n",
      "Epoch 9/10\n",
      "12/12 [==============================] - 0s 25ms/step - loss: 1.9019 - accuracy: 0.1935 - val_loss: 1.9475 - val_accuracy: 0.1484\n",
      "Epoch 10/10\n",
      "12/12 [==============================] - 0s 24ms/step - loss: 1.8993 - accuracy: 0.1978 - val_loss: 1.9602 - val_accuracy: 0.1250\n"
     ]
    }
   ],
   "source": [
    "eyes_train = eyes_emotion_model.fit(\n",
    "    eyes_train_generator,\n",
    "    steps_per_epoch= 777 // 64,\n",
    "    epochs=10,\n",
    "    validation_data=eyes_valid_generator,\n",
    "    validation_steps= 181 // 64  \n",
    ")"
   ]
  },
  {
   "cell_type": "markdown",
   "metadata": {},
   "source": [
    "Plotting training and validation accuracy"
   ]
  },
  {
   "cell_type": "code",
   "execution_count": 9,
   "metadata": {},
   "outputs": [
    {
     "name": "stdout",
     "output_type": "stream",
     "text": [
      "Training: 0.19775596261024475\n",
      "Validation: 0.125\n"
     ]
    },
    {
     "data": {
      "image/png": "[encoded data removed]",
      "text/plain": [
       "<Figure size 640x480 with 1 Axes>"
      ]
     },
     "metadata": {},
     "output_type": "display_data"
    }
   ],
   "source": [
    "print(\"Training:\", eyes_train.history['accuracy'][-1])\n",
    "print(\"Validation:\", eyes_train.history['val_accuracy'][-1])\n",
    "\n",
    "plt.plot(eyes_train.history['accuracy'], label='Training Accuracy')\n",
    "plt.plot(eyes_train.history['val_accuracy'], label='Validation Accuracy')\n",
    "plt.xlabel('Epoch')\n",
    "plt.ylabel('Accuracy')\n",
    "plt.legend()\n",
    "plt.show()"
   ]
  },
  {
   "cell_type": "markdown",
   "metadata": {},
   "source": [
    "## Variance (Mouth)"
   ]
  },
  {
   "cell_type": "code",
   "execution_count": 10,
   "metadata": {},
   "outputs": [
    {
     "name": "stdout",
     "output_type": "stream",
     "text": [
      "Model: \"sequential_2\"\n",
      "_________________________________________________________________\n",
      " Layer (type)                Output Shape              Param #   \n",
      "=================================================================\n",
      " conv2d_3 (Conv2D)           (None, 28, 36, 6)         60        \n",
      "                                                                 \n",
      " max_pooling2d_3 (MaxPoolin  (None, 14, 18, 6)         0         \n",
      " g2D)                                                            \n",
      "                                                                 \n",
      " conv2d_4 (Conv2D)           (None, 12, 16, 16)        880       \n",
      "                                                                 \n",
      " max_pooling2d_4 (MaxPoolin  (None, 6, 8, 16)          0         \n",
      " g2D)                                                            \n",
      "                                                                 \n",
      " conv2d_5 (Conv2D)           (None, 4, 6, 32)          4640      \n",
      "                                                                 \n",
      " max_pooling2d_5 (MaxPoolin  (None, 2, 3, 32)          0         \n",
      " g2D)                                                            \n",
      "                                                                 \n",
      " mouth_flatten (Flatten)     (None, 192)               0         \n",
      "                                                                 \n",
      " dense_4 (Dense)             (None, 1024)              197632    \n",
      "                                                                 \n",
      " dense_5 (Dense)             (None, 7)                 7175      \n",
      "                                                                 \n",
      "=================================================================\n",
      "Total params: 210387 (821.82 KB)\n",
      "Trainable params: 210387 (821.82 KB)\n",
      "Non-trainable params: 0 (0.00 Byte)\n",
      "_________________________________________________________________\n"
     ]
    }
   ],
   "source": [
    "mouth_emotion_model = Sequential()\n",
    "\n",
    "mouth_emotion_model.add(Conv2D(6, kernel_size=(3, 3), activation='relu', input_shape=(30, 38, 1)))\n",
    "mouth_emotion_model.add(MaxPooling2D(pool_size=(2, 2)))\n",
    "\n",
    "mouth_emotion_model.add(Conv2D(16, kernel_size=(3, 3), activation='relu', input_shape=(14, 18, 6)))\n",
    "mouth_emotion_model.add(MaxPooling2D(pool_size=(2, 2)))\n",
    "\n",
    "mouth_emotion_model.add(Conv2D(32, kernel_size=(3, 3), activation='relu', input_shape=(6, 8, 16)))\n",
    "mouth_emotion_model.add(MaxPooling2D(pool_size=(2, 2)))\n",
    "\n",
    "mouth_emotion_model.add(Flatten(name=\"mouth_flatten\"))\n",
    "\n",
    "mouth_emotion_model.add(Dense(1024, activation='relu'))\n",
    "# mouth_emotion_model.add(Dropout(0.25))\n",
    "\n",
    "mouth_emotion_model.add(Dense(7, activation='softmax'))\n",
    "\n",
    "mouth_emotion_model.compile(loss='categorical_crossentropy', optimizer=tf.keras.optimizers.legacy.Adam(learning_rate=0.0001, decay=1e-6), metrics=['accuracy'])\n",
    "\n",
    "mouth_emotion_model.summary()"
   ]
  },
  {
   "cell_type": "code",
   "execution_count": 11,
   "metadata": {},
   "outputs": [
    {
     "name": "stdout",
     "output_type": "stream",
     "text": [
      "Epoch 1/10\n",
      "12/12 [==============================] - 1s 35ms/step - loss: 1.9466 - accuracy: 0.1277 - val_loss: 1.9440 - val_accuracy: 0.1406\n",
      "Epoch 2/10\n",
      "12/12 [==============================] - 0s 23ms/step - loss: 1.9364 - accuracy: 0.2326 - val_loss: 1.9432 - val_accuracy: 0.1406\n",
      "Epoch 3/10\n",
      "12/12 [==============================] - 0s 25ms/step - loss: 1.9331 - accuracy: 0.2454 - val_loss: 1.9417 - val_accuracy: 0.1484\n",
      "Epoch 4/10\n",
      "12/12 [==============================] - 0s 22ms/step - loss: 1.9290 - accuracy: 0.2525 - val_loss: 1.9353 - val_accuracy: 0.1875\n",
      "Epoch 5/10\n",
      "12/12 [==============================] - 0s 21ms/step - loss: 1.9241 - accuracy: 0.2681 - val_loss: 1.9364 - val_accuracy: 0.1797\n",
      "Epoch 6/10\n",
      "12/12 [==============================] - 0s 21ms/step - loss: 1.9235 - accuracy: 0.2468 - val_loss: 1.9367 - val_accuracy: 0.1875\n",
      "Epoch 7/10\n",
      "12/12 [==============================] - 0s 22ms/step - loss: 1.9179 - accuracy: 0.2667 - val_loss: 1.9572 - val_accuracy: 0.1641\n",
      "Epoch 8/10\n",
      "12/12 [==============================] - 0s 21ms/step - loss: 1.9102 - accuracy: 0.2894 - val_loss: 1.9408 - val_accuracy: 0.1953\n",
      "Epoch 9/10\n",
      "12/12 [==============================] - 0s 22ms/step - loss: 1.9080 - accuracy: 0.2879 - val_loss: 1.9538 - val_accuracy: 0.1641\n",
      "Epoch 10/10\n",
      "12/12 [==============================] - 0s 21ms/step - loss: 1.9071 - accuracy: 0.2936 - val_loss: 1.9506 - val_accuracy: 0.1875\n"
     ]
    }
   ],
   "source": [
    "mouth_train = mouth_emotion_model.fit(\n",
    "    mouth_train_generator,\n",
    "    steps_per_epoch= 769 // 64,\n",
    "    epochs=10,\n",
    "    validation_data=mouth_valid_generator,\n",
    "    validation_steps= 181 // 64  \n",
    ")"
   ]
  },
  {
   "cell_type": "markdown",
   "metadata": {},
   "source": [
    "Plotting training and validation accuracy"
   ]
  },
  {
   "cell_type": "code",
   "execution_count": 12,
   "metadata": {},
   "outputs": [
    {
     "name": "stdout",
     "output_type": "stream",
     "text": [
      "Training: 0.29361701011657715\n",
      "Validation: 0.1875\n"
     ]
    },
    {
     "data": {
      "image/png": "[encoded data removed]",
      "text/plain": [
       "<Figure size 640x480 with 1 Axes>"
      ]
     },
     "metadata": {},
     "output_type": "display_data"
    }
   ],
   "source": [
    "print(\"Training:\", mouth_train.history['accuracy'][-1])\n",
    "print(\"Validation:\", mouth_train.history['val_accuracy'][-1])\n",
    "\n",
    "plt.plot(mouth_train.history['accuracy'], label='Training Accuracy')\n",
    "plt.plot(mouth_train.history['val_accuracy'], label='Validation Accuracy')\n",
    "plt.xlabel('Epoch')\n",
    "plt.ylabel('Accuracy')\n",
    "plt.legend()\n",
    "plt.show()"
   ]
  },
  {
   "cell_type": "markdown",
   "metadata": {},
   "source": [
    "# Feature Extraction"
   ]
  },
  {
   "cell_type": "markdown",
   "metadata": {},
   "source": [
    "Based on the journal that we will implement, now we need to get feature extraction from the flatten layer.\n",
    "\n",
    "All the features obtained will be in the form of an array"
   ]
  },
  {
   "cell_type": "code",
   "execution_count": 13,
   "metadata": {},
   "outputs": [],
   "source": [
    "flatten_face = face_emotion_model.get_layer('face_flatten').output\n",
    "flatten_eyes = eyes_emotion_model.get_layer('eyes_flatten').output\n",
    "flatten_mouth = mouth_emotion_model.get_layer('mouth_flatten').output"
   ]
  },
  {
   "cell_type": "code",
   "execution_count": 14,
   "metadata": {},
   "outputs": [
    {
     "data": {
      "text/plain": [
       "<KerasTensor: shape=(None, 288) dtype=float32 (created by layer 'face_flatten')>"
      ]
     },
     "execution_count": 14,
     "metadata": {},
     "output_type": "execute_result"
    }
   ],
   "source": [
    "flatten_face"
   ]
  },
  {
   "cell_type": "code",
   "execution_count": 15,
   "metadata": {},
   "outputs": [
    {
     "data": {
      "text/plain": [
       "<KerasTensor: shape=(None, 384) dtype=float32 (created by layer 'eyes_flatten')>"
      ]
     },
     "execution_count": 15,
     "metadata": {},
     "output_type": "execute_result"
    }
   ],
   "source": [
    "flatten_eyes"
   ]
  },
  {
   "cell_type": "code",
   "execution_count": 16,
   "metadata": {},
   "outputs": [
    {
     "data": {
      "text/plain": [
       "<KerasTensor: shape=(None, 192) dtype=float32 (created by layer 'mouth_flatten')>"
      ]
     },
     "execution_count": 16,
     "metadata": {},
     "output_type": "execute_result"
    }
   ],
   "source": [
    "flatten_mouth"
   ]
  },
  {
   "cell_type": "markdown",
   "metadata": {},
   "source": [
    "# Concate The Feature and Make New Model"
   ]
  },
  {
   "cell_type": "markdown",
   "metadata": {},
   "source": [
    "Merge all feature in `flatten layer`"
   ]
  },
  {
   "cell_type": "code",
   "execution_count": 17,
   "metadata": {},
   "outputs": [],
   "source": [
    "concatenated_features = Concatenate(axis=-1)([flatten_face, flatten_eyes, flatten_mouth])"
   ]
  },
  {
   "cell_type": "markdown",
   "metadata": {},
   "source": [
    "Now we want to reshape the `concatenated_features` into a **tensor** with shape (864, 1). This reshaping is often necessary to prepare the data for further processing."
   ]
  },
  {
   "cell_type": "code",
   "execution_count": 18,
   "metadata": {},
   "outputs": [],
   "source": [
    "# reshaped_features = Reshape((864, 1))(concatenated_features)"
   ]
  },
  {
   "cell_type": "markdown",
   "metadata": {},
   "source": [
    "Adding dense layer, so the model can learn more complex representation"
   ]
  },
  {
   "cell_type": "code",
   "execution_count": 19,
   "metadata": {},
   "outputs": [],
   "source": [
    "dense_layer = Dense(1024, activation='relu')(concatenated_features)"
   ]
  },
  {
   "cell_type": "markdown",
   "metadata": {},
   "source": [
    "We will using dropout to prevent overfitting by reducing reliance on specific neurons."
   ]
  },
  {
   "cell_type": "code",
   "execution_count": 20,
   "metadata": {},
   "outputs": [],
   "source": [
    "drop = Dropout(0.25)(dense_layer)"
   ]
  },
  {
   "cell_type": "markdown",
   "metadata": {},
   "source": [
    "Create layer for the final output with 7 units based on the class that we have"
   ]
  },
  {
   "cell_type": "code",
   "execution_count": 21,
   "metadata": {},
   "outputs": [],
   "source": [
    "output_layer = Dense(7, activation='softmax')(concatenated_features)"
   ]
  },
  {
   "cell_type": "markdown",
   "metadata": {},
   "source": [
    "Creates a Keras Model that takes the inputs from three different models\n",
    "* face_emotion_model.input \n",
    "* eyes_emotion_model.input \n",
    "* mouth_emotion_model.input \n",
    "\n",
    "and outputs the result from the previously defined `output_layer`."
   ]
  },
  {
   "cell_type": "code",
   "execution_count": 22,
   "metadata": {},
   "outputs": [],
   "source": [
    "feature_fusion_model = Model(inputs=[face_emotion_model.input, eyes_emotion_model.input, mouth_emotion_model.input], outputs=output_layer)"
   ]
  },
  {
   "cell_type": "code",
   "execution_count": 23,
   "metadata": {},
   "outputs": [],
   "source": [
    "feature_fusion_model.compile(loss='categorical_crossentropy', optimizer=tf.keras.optimizers.legacy.Adam(learning_rate=0.001, decay=1e-5), metrics=['accuracy'])"
   ]
  },
  {
   "cell_type": "markdown",
   "metadata": {},
   "source": [
    "Now we want to check if the model that we make is correct"
   ]
  },
  {
   "cell_type": "code",
   "execution_count": 24,
   "metadata": {},
   "outputs": [
    {
     "name": "stdout",
     "output_type": "stream",
     "text": [
      "Model: \"model\"\n",
      "__________________________________________________________________________________________________\n",
      " Layer (type)                Output Shape                 Param #   Connected to                  \n",
      "==================================================================================================\n",
      " conv_1_input (InputLayer)   [(None, 38, 38, 1)]          0         []                            \n",
      "                                                                                                  \n",
      " conv2d_input (InputLayer)   [(None, 30, 62, 1)]          0         []                            \n",
      "                                                                                                  \n",
      " conv2d_3_input (InputLayer  [(None, 30, 38, 1)]          0         []                            \n",
      " )                                                                                                \n",
      "                                                                                                  \n",
      " conv_1 (Conv2D)             (None, 36, 36, 6)            60        ['conv_1_input[0][0]']        \n",
      "                                                                                                  \n",
      " conv2d (Conv2D)             (None, 28, 60, 6)            60        ['conv2d_input[0][0]']        \n",
      "                                                                                                  \n",
      " conv2d_3 (Conv2D)           (None, 28, 36, 6)            60        ['conv2d_3_input[0][0]']      \n",
      "                                                                                                  \n",
      " pool_1 (MaxPooling2D)       (None, 18, 18, 6)            0         ['conv_1[0][0]']              \n",
      "                                                                                                  \n",
      " max_pooling2d (MaxPooling2  (None, 14, 30, 6)            0         ['conv2d[0][0]']              \n",
      " D)                                                                                               \n",
      "                                                                                                  \n",
      " max_pooling2d_3 (MaxPoolin  (None, 14, 18, 6)            0         ['conv2d_3[0][0]']            \n",
      " g2D)                                                                                             \n",
      "                                                                                                  \n",
      " conv_2 (Conv2D)             (None, 16, 16, 16)           880       ['pool_1[0][0]']              \n",
      "                                                                                                  \n",
      " conv2d_1 (Conv2D)           (None, 12, 28, 16)           880       ['max_pooling2d[0][0]']       \n",
      "                                                                                                  \n",
      " conv2d_4 (Conv2D)           (None, 12, 16, 16)           880       ['max_pooling2d_3[0][0]']     \n",
      "                                                                                                  \n",
      " pool_2 (MaxPooling2D)       (None, 8, 8, 16)             0         ['conv_2[0][0]']              \n",
      "                                                                                                  \n",
      " max_pooling2d_1 (MaxPoolin  (None, 6, 14, 16)            0         ['conv2d_1[0][0]']            \n",
      " g2D)                                                                                             \n",
      "                                                                                                  \n",
      " max_pooling2d_4 (MaxPoolin  (None, 6, 8, 16)             0         ['conv2d_4[0][0]']            \n",
      " g2D)                                                                                             \n",
      "                                                                                                  \n",
      " conv_3 (Conv2D)             (None, 6, 6, 32)             4640      ['pool_2[0][0]']              \n",
      "                                                                                                  \n",
      " conv2d_2 (Conv2D)           (None, 4, 12, 32)            4640      ['max_pooling2d_1[0][0]']     \n",
      "                                                                                                  \n",
      " conv2d_5 (Conv2D)           (None, 4, 6, 32)             4640      ['max_pooling2d_4[0][0]']     \n",
      "                                                                                                  \n",
      " pool_3 (MaxPooling2D)       (None, 3, 3, 32)             0         ['conv_3[0][0]']              \n",
      "                                                                                                  \n",
      " max_pooling2d_2 (MaxPoolin  (None, 2, 6, 32)             0         ['conv2d_2[0][0]']            \n",
      " g2D)                                                                                             \n",
      "                                                                                                  \n",
      " max_pooling2d_5 (MaxPoolin  (None, 2, 3, 32)             0         ['conv2d_5[0][0]']            \n",
      " g2D)                                                                                             \n",
      "                                                                                                  \n",
      " face_flatten (Flatten)      (None, 288)                  0         ['pool_3[0][0]']              \n",
      "                                                                                                  \n",
      " eyes_flatten (Flatten)      (None, 384)                  0         ['max_pooling2d_2[0][0]']     \n",
      "                                                                                                  \n",
      " mouth_flatten (Flatten)     (None, 192)                  0         ['max_pooling2d_5[0][0]']     \n",
      "                                                                                                  \n",
      " concatenate (Concatenate)   (None, 864)                  0         ['face_flatten[0][0]',        \n",
      "                                                                     'eyes_flatten[0][0]',        \n",
      "                                                                     'mouth_flatten[0][0]']       \n",
      "                                                                                                  \n",
      " dense_7 (Dense)             (None, 7)                    6055      ['concatenate[0][0]']         \n",
      "                                                                                                  \n",
      "==================================================================================================\n",
      "Total params: 22795 (89.04 KB)\n",
      "Trainable params: 22795 (89.04 KB)\n",
      "Non-trainable params: 0 (0.00 Byte)\n",
      "__________________________________________________________________________________________________\n"
     ]
    }
   ],
   "source": [
    "feature_fusion_model.summary()"
   ]
  },
  {
   "cell_type": "markdown",
   "metadata": {},
   "source": [
    "# Generating Combined Data for Feature Fusion Model"
   ]
  },
  {
   "cell_type": "markdown",
   "metadata": {},
   "source": [
    "Create a generator function (`generate_combined_data`) intended for use in training a feature fusion model. The purpose of the generator is to create batches of combined input data, specifically for the face, eyes, and mouth, along with their corresponding output labels. The code ensures that all batches have an equal number of samples by determining the minimum number of samples among the three input sources. The face labels are then used as the `ground truth` for the combined model.\n",
    "\n",
    "The generator is structured to be used within a training loop, providing a continuous flow of batches for training the feature fusion model effectively. This approach is essential when dealing with multiple input sources and maintaining consistency in the number of samples across these sources."
   ]
  },
  {
   "cell_type": "code",
   "execution_count": 25,
   "metadata": {},
   "outputs": [],
   "source": [
    "def generate_combined_data(face_generator, eyes_generator, mouth_generator):\n",
    "    while True:\n",
    "        face_data = face_generator.next()\n",
    "        eyes_data = eyes_generator.next()\n",
    "        mouth_data = mouth_generator.next()\n",
    "\n",
    "        # Ensure all batches have the same number of samples\n",
    "        min_samples = min(face_data[0].shape[0], eyes_data[0].shape[0], mouth_data[0].shape[0])\n",
    "        combined_input = [face_data[0][:min_samples], eyes_data[0][:min_samples], mouth_data[0][:min_samples]]\n",
    "\n",
    "        # Using face labels as ground truth for the combined model\n",
    "        combined_output = face_data[1][:min_samples]  \n",
    "\n",
    "        yield combined_input, combined_output"
   ]
  },
  {
   "cell_type": "markdown",
   "metadata": {},
   "source": [
    "# Creating Combined Data Generators for Training and Validation"
   ]
  },
  {
   "cell_type": "markdown",
   "metadata": {},
   "source": [
    "Now that we've got our awesome `generate_combined_data` function, let's put it to use for both `training` and `validation`. We're creating two special data generators: one for training (`combined_train_generator`) and another for validation (`combined_valid_generator`). These generators are all set to generate batches of combined input data, ensuring a harmonious blend of faces, eyes, and mouths for both training and validation phases."
   ]
  },
  {
   "cell_type": "code",
   "execution_count": 26,
   "metadata": {},
   "outputs": [],
   "source": [
    "combined_train_generator = generate_combined_data(face_train_generator, eyes_train_generator, mouth_train_generator)\n",
    "combined_valid_generator = generate_combined_data(face_valid_generator, eyes_valid_generator, mouth_valid_generator)"
   ]
  },
  {
   "cell_type": "markdown",
   "metadata": {},
   "source": [
    "# Train The  Model"
   ]
  },
  {
   "cell_type": "markdown",
   "metadata": {},
   "source": [
    "Make parameters that are used (**optional**)  during the training of a model in Keras to define the number of batches to be drawn from the generator for one epoch and for one validation run, respectively."
   ]
  },
  {
   "cell_type": "code",
   "execution_count": 27,
   "metadata": {},
   "outputs": [],
   "source": [
    "steps_per_epoch = min(len(face_train_generator), len(eyes_train_generator), len(mouth_train_generator))\n",
    "validation_steps = min(len(face_valid_generator), len(eyes_valid_generator), len(mouth_valid_generator))"
   ]
  },
  {
   "cell_type": "code",
   "execution_count": 28,
   "metadata": {},
   "outputs": [
    {
     "name": "stdout",
     "output_type": "stream",
     "text": [
      "Step per epochs:  13\n",
      "Validation steps:  3\n"
     ]
    }
   ],
   "source": [
    "print(\"Step per epochs: \", steps_per_epoch)\n",
    "print(\"Validation steps: \", validation_steps)"
   ]
  },
  {
   "cell_type": "code",
   "execution_count": 29,
   "metadata": {},
   "outputs": [
    {
     "name": "stdout",
     "output_type": "stream",
     "text": [
      "Epoch 1/130\n",
      "39/39 [==============================] - 3s 63ms/step - loss: 1.9289 - accuracy: 0.1834 - val_loss: 1.9637 - val_accuracy: 0.1490\n",
      "Epoch 2/130\n",
      "39/39 [==============================] - 3s 68ms/step - loss: 1.9080 - accuracy: 0.2219 - val_loss: 1.9502 - val_accuracy: 0.1959\n",
      "Epoch 3/130\n",
      "39/39 [==============================] - 3s 69ms/step - loss: 1.8213 - accuracy: 0.3008 - val_loss: 1.9077 - val_accuracy: 0.1612\n",
      "Epoch 4/130\n",
      "39/39 [==============================] - 2s 61ms/step - loss: 1.6823 - accuracy: 0.3364 - val_loss: 1.8976 - val_accuracy: 0.2041\n",
      "Epoch 5/130\n",
      "39/39 [==============================] - 2s 62ms/step - loss: 1.5269 - accuracy: 0.4183 - val_loss: 1.9687 - val_accuracy: 0.2122\n",
      "Epoch 6/130\n",
      "39/39 [==============================] - 2s 61ms/step - loss: 1.4065 - accuracy: 0.4642 - val_loss: 1.8811 - val_accuracy: 0.2571\n",
      "Epoch 7/130\n",
      "39/39 [==============================] - 2s 61ms/step - loss: 1.3567 - accuracy: 0.4859 - val_loss: 1.9361 - val_accuracy: 0.2204\n",
      "Epoch 8/130\n",
      "39/39 [==============================] - 2s 61ms/step - loss: 1.2985 - accuracy: 0.5132 - val_loss: 2.0370 - val_accuracy: 0.2061\n",
      "Epoch 9/130\n",
      "39/39 [==============================] - 2s 62ms/step - loss: 1.2621 - accuracy: 0.5336 - val_loss: 1.9855 - val_accuracy: 0.2143\n",
      "Epoch 10/130\n",
      "39/39 [==============================] - 2s 61ms/step - loss: 1.2266 - accuracy: 0.5327 - val_loss: 2.2805 - val_accuracy: 0.2184\n",
      "Epoch 11/130\n",
      "39/39 [==============================] - 2s 61ms/step - loss: 1.2026 - accuracy: 0.5548 - val_loss: 2.0386 - val_accuracy: 0.2388\n",
      "Epoch 12/130\n",
      "39/39 [==============================] - 2s 62ms/step - loss: 1.1436 - accuracy: 0.5782 - val_loss: 2.1121 - val_accuracy: 0.2347\n",
      "Epoch 13/130\n",
      "39/39 [==============================] - 2s 61ms/step - loss: 1.1361 - accuracy: 0.5774 - val_loss: 2.1047 - val_accuracy: 0.2367\n",
      "Epoch 14/130\n",
      "39/39 [==============================] - 2s 63ms/step - loss: 1.1040 - accuracy: 0.5969 - val_loss: 1.9429 - val_accuracy: 0.2510\n",
      "Epoch 15/130\n",
      "39/39 [==============================] - 2s 63ms/step - loss: 1.1007 - accuracy: 0.6016 - val_loss: 2.0584 - val_accuracy: 0.2653\n",
      "Epoch 16/130\n",
      "39/39 [==============================] - 2s 63ms/step - loss: 1.0783 - accuracy: 0.6164 - val_loss: 2.3062 - val_accuracy: 0.2408\n",
      "Epoch 17/130\n",
      "39/39 [==============================] - 2s 61ms/step - loss: 1.0540 - accuracy: 0.6168 - val_loss: 2.2249 - val_accuracy: 0.2306\n",
      "Epoch 18/130\n",
      "39/39 [==============================] - 2s 62ms/step - loss: 1.0431 - accuracy: 0.6225 - val_loss: 2.1916 - val_accuracy: 0.2510\n",
      "Epoch 19/130\n",
      "39/39 [==============================] - 2s 61ms/step - loss: 1.0156 - accuracy: 0.6303 - val_loss: 2.1353 - val_accuracy: 0.2245\n",
      "Epoch 20/130\n",
      "39/39 [==============================] - 2s 61ms/step - loss: 1.0026 - accuracy: 0.6433 - val_loss: 2.2543 - val_accuracy: 0.2449\n",
      "Epoch 21/130\n",
      "39/39 [==============================] - 2s 61ms/step - loss: 0.9879 - accuracy: 0.6446 - val_loss: 2.1983 - val_accuracy: 0.2510\n",
      "Epoch 22/130\n",
      "39/39 [==============================] - 2s 62ms/step - loss: 0.9888 - accuracy: 0.6329 - val_loss: 2.2296 - val_accuracy: 0.2510\n",
      "Epoch 23/130\n",
      "39/39 [==============================] - 2s 60ms/step - loss: 0.9730 - accuracy: 0.6506 - val_loss: 2.0836 - val_accuracy: 0.2653\n",
      "Epoch 24/130\n",
      "39/39 [==============================] - 2s 61ms/step - loss: 0.9482 - accuracy: 0.6671 - val_loss: 2.3953 - val_accuracy: 0.2449\n",
      "Epoch 25/130\n",
      "39/39 [==============================] - 2s 62ms/step - loss: 0.9124 - accuracy: 0.6766 - val_loss: 2.1158 - val_accuracy: 0.2673\n",
      "Epoch 26/130\n",
      "39/39 [==============================] - 2s 61ms/step - loss: 0.9514 - accuracy: 0.6649 - val_loss: 2.1941 - val_accuracy: 0.2408\n",
      "Epoch 27/130\n",
      "39/39 [==============================] - 2s 62ms/step - loss: 0.8815 - accuracy: 0.6853 - val_loss: 2.1564 - val_accuracy: 0.2367\n",
      "Epoch 28/130\n",
      "39/39 [==============================] - 2s 62ms/step - loss: 0.8654 - accuracy: 0.7061 - val_loss: 2.2445 - val_accuracy: 0.2816\n",
      "Epoch 29/130\n",
      "39/39 [==============================] - 2s 62ms/step - loss: 0.8280 - accuracy: 0.7113 - val_loss: 2.2039 - val_accuracy: 0.2449\n",
      "Epoch 30/130\n",
      "39/39 [==============================] - 2s 62ms/step - loss: 0.8639 - accuracy: 0.6931 - val_loss: 1.9940 - val_accuracy: 0.2959\n",
      "Epoch 31/130\n",
      "39/39 [==============================] - 2s 61ms/step - loss: 0.8162 - accuracy: 0.7113 - val_loss: 2.1413 - val_accuracy: 0.3020\n",
      "Epoch 32/130\n",
      "39/39 [==============================] - 2s 64ms/step - loss: 0.8030 - accuracy: 0.7217 - val_loss: 2.1644 - val_accuracy: 0.2918\n",
      "Epoch 33/130\n",
      "39/39 [==============================] - 2s 61ms/step - loss: 0.8421 - accuracy: 0.6974 - val_loss: 2.2456 - val_accuracy: 0.2714\n",
      "Epoch 34/130\n",
      "39/39 [==============================] - 2s 63ms/step - loss: 0.7902 - accuracy: 0.7269 - val_loss: 2.2173 - val_accuracy: 0.2612\n",
      "Epoch 35/130\n",
      "39/39 [==============================] - 2s 62ms/step - loss: 0.8001 - accuracy: 0.7139 - val_loss: 2.2323 - val_accuracy: 0.2592\n",
      "Epoch 36/130\n",
      "39/39 [==============================] - 2s 61ms/step - loss: 0.8165 - accuracy: 0.7139 - val_loss: 2.4709 - val_accuracy: 0.2510\n",
      "Epoch 37/130\n",
      "39/39 [==============================] - 2s 63ms/step - loss: 0.7855 - accuracy: 0.7430 - val_loss: 2.1941 - val_accuracy: 0.2959\n",
      "Epoch 38/130\n",
      "39/39 [==============================] - 2s 62ms/step - loss: 0.7347 - accuracy: 0.7512 - val_loss: 2.2621 - val_accuracy: 0.3082\n",
      "Epoch 39/130\n",
      "39/39 [==============================] - 2s 62ms/step - loss: 0.7262 - accuracy: 0.7430 - val_loss: 2.1556 - val_accuracy: 0.2918\n",
      "Epoch 40/130\n",
      "39/39 [==============================] - 2s 62ms/step - loss: 0.6961 - accuracy: 0.7646 - val_loss: 2.4344 - val_accuracy: 0.2531\n",
      "Epoch 41/130\n",
      "39/39 [==============================] - 2s 65ms/step - loss: 0.6803 - accuracy: 0.7711 - val_loss: 2.2535 - val_accuracy: 0.2735\n",
      "Epoch 42/130\n",
      "39/39 [==============================] - 2s 64ms/step - loss: 0.7149 - accuracy: 0.7529 - val_loss: 2.0919 - val_accuracy: 0.2939\n",
      "Epoch 43/130\n",
      "39/39 [==============================] - 2s 61ms/step - loss: 0.7156 - accuracy: 0.7521 - val_loss: 2.0467 - val_accuracy: 0.2878\n",
      "Epoch 44/130\n",
      "39/39 [==============================] - 2s 62ms/step - loss: 0.6442 - accuracy: 0.7885 - val_loss: 2.3831 - val_accuracy: 0.2878\n",
      "Epoch 45/130\n",
      "39/39 [==============================] - 2s 62ms/step - loss: 0.6713 - accuracy: 0.7724 - val_loss: 2.3268 - val_accuracy: 0.2878\n",
      "Epoch 46/130\n",
      "39/39 [==============================] - 2s 61ms/step - loss: 0.6234 - accuracy: 0.7828 - val_loss: 2.2569 - val_accuracy: 0.2837\n",
      "Epoch 47/130\n",
      "39/39 [==============================] - 2s 63ms/step - loss: 0.6018 - accuracy: 0.8019 - val_loss: 2.4186 - val_accuracy: 0.2939\n",
      "Epoch 48/130\n",
      "39/39 [==============================] - 2s 60ms/step - loss: 0.7043 - accuracy: 0.7490 - val_loss: 2.5284 - val_accuracy: 0.2714\n",
      "Epoch 49/130\n",
      "39/39 [==============================] - 2s 63ms/step - loss: 0.6001 - accuracy: 0.7976 - val_loss: 2.2181 - val_accuracy: 0.3061\n",
      "Epoch 50/130\n",
      "39/39 [==============================] - 2s 60ms/step - loss: 0.5813 - accuracy: 0.8067 - val_loss: 2.3365 - val_accuracy: 0.3204\n",
      "Epoch 51/130\n",
      "39/39 [==============================] - 2s 61ms/step - loss: 0.5667 - accuracy: 0.8192 - val_loss: 2.3053 - val_accuracy: 0.3061\n",
      "Epoch 52/130\n",
      "39/39 [==============================] - 2s 61ms/step - loss: 0.5556 - accuracy: 0.8179 - val_loss: 2.5223 - val_accuracy: 0.2878\n",
      "Epoch 53/130\n",
      "39/39 [==============================] - 2s 62ms/step - loss: 0.5798 - accuracy: 0.8097 - val_loss: 2.3981 - val_accuracy: 0.3020\n",
      "Epoch 54/130\n",
      "39/39 [==============================] - 2s 62ms/step - loss: 0.5787 - accuracy: 0.8110 - val_loss: 2.4386 - val_accuracy: 0.2735\n",
      "Epoch 55/130\n",
      "39/39 [==============================] - 2s 62ms/step - loss: 0.5789 - accuracy: 0.8075 - val_loss: 2.6223 - val_accuracy: 0.2878\n",
      "Epoch 56/130\n",
      "39/39 [==============================] - 2s 61ms/step - loss: 0.5852 - accuracy: 0.7971 - val_loss: 2.4859 - val_accuracy: 0.2980\n",
      "Epoch 57/130\n",
      "39/39 [==============================] - 2s 62ms/step - loss: 0.5419 - accuracy: 0.8192 - val_loss: 2.3726 - val_accuracy: 0.2980\n",
      "Epoch 58/130\n",
      "39/39 [==============================] - 2s 63ms/step - loss: 0.5442 - accuracy: 0.8236 - val_loss: 2.4105 - val_accuracy: 0.3122\n",
      "Epoch 59/130\n",
      "39/39 [==============================] - 2s 62ms/step - loss: 0.6051 - accuracy: 0.7993 - val_loss: 2.3048 - val_accuracy: 0.3041\n",
      "Epoch 60/130\n",
      "39/39 [==============================] - 2s 59ms/step - loss: 0.5215 - accuracy: 0.8344 - val_loss: 2.4256 - val_accuracy: 0.3082\n",
      "Epoch 61/130\n",
      "39/39 [==============================] - 2s 63ms/step - loss: 0.4715 - accuracy: 0.8531 - val_loss: 2.4915 - val_accuracy: 0.2939\n",
      "Epoch 62/130\n",
      "39/39 [==============================] - 2s 61ms/step - loss: 0.6010 - accuracy: 0.8028 - val_loss: 2.2555 - val_accuracy: 0.3184\n",
      "Epoch 63/130\n",
      "39/39 [==============================] - 2s 61ms/step - loss: 0.5469 - accuracy: 0.8192 - val_loss: 2.3817 - val_accuracy: 0.2878\n",
      "Epoch 64/130\n",
      "39/39 [==============================] - 2s 63ms/step - loss: 0.4933 - accuracy: 0.8448 - val_loss: 2.3867 - val_accuracy: 0.3204\n",
      "Epoch 65/130\n",
      "39/39 [==============================] - 2s 60ms/step - loss: 0.4401 - accuracy: 0.8661 - val_loss: 2.4424 - val_accuracy: 0.3184\n",
      "Epoch 66/130\n",
      "39/39 [==============================] - 2s 61ms/step - loss: 0.4229 - accuracy: 0.8782 - val_loss: 2.4905 - val_accuracy: 0.3061\n",
      "Epoch 67/130\n",
      "39/39 [==============================] - 2s 61ms/step - loss: 0.5063 - accuracy: 0.8336 - val_loss: 2.4871 - val_accuracy: 0.3122\n",
      "Epoch 68/130\n",
      "39/39 [==============================] - 2s 61ms/step - loss: 0.4861 - accuracy: 0.8383 - val_loss: 2.2978 - val_accuracy: 0.3082\n",
      "Epoch 69/130\n",
      "39/39 [==============================] - 2s 61ms/step - loss: 0.4605 - accuracy: 0.8591 - val_loss: 2.3218 - val_accuracy: 0.3143\n",
      "Epoch 70/130\n",
      "39/39 [==============================] - 2s 63ms/step - loss: 0.4178 - accuracy: 0.8760 - val_loss: 2.6392 - val_accuracy: 0.3082\n",
      "Epoch 71/130\n",
      "39/39 [==============================] - 2s 60ms/step - loss: 0.4489 - accuracy: 0.8522 - val_loss: 2.4694 - val_accuracy: 0.3429\n",
      "Epoch 72/130\n",
      "39/39 [==============================] - 2s 62ms/step - loss: 0.4261 - accuracy: 0.8678 - val_loss: 2.6024 - val_accuracy: 0.3102\n",
      "Epoch 73/130\n",
      "39/39 [==============================] - 2s 61ms/step - loss: 0.3829 - accuracy: 0.8877 - val_loss: 2.6568 - val_accuracy: 0.3000\n",
      "Epoch 74/130\n",
      "39/39 [==============================] - 2s 62ms/step - loss: 0.3980 - accuracy: 0.8795 - val_loss: 2.8078 - val_accuracy: 0.3061\n",
      "Epoch 75/130\n",
      "39/39 [==============================] - 2s 62ms/step - loss: 0.4801 - accuracy: 0.8422 - val_loss: 2.5923 - val_accuracy: 0.3061\n",
      "Epoch 76/130\n",
      "39/39 [==============================] - 2s 61ms/step - loss: 0.3743 - accuracy: 0.8873 - val_loss: 2.5673 - val_accuracy: 0.3286\n",
      "Epoch 77/130\n",
      "39/39 [==============================] - 2s 62ms/step - loss: 0.3462 - accuracy: 0.9003 - val_loss: 2.5568 - val_accuracy: 0.3265\n",
      "Epoch 78/130\n",
      "39/39 [==============================] - 2s 64ms/step - loss: 0.3495 - accuracy: 0.9016 - val_loss: 2.5999 - val_accuracy: 0.3184\n",
      "Epoch 79/130\n",
      "39/39 [==============================] - 2s 60ms/step - loss: 0.3853 - accuracy: 0.8782 - val_loss: 3.0687 - val_accuracy: 0.3020\n",
      "Epoch 80/130\n",
      "39/39 [==============================] - 2s 61ms/step - loss: 0.4154 - accuracy: 0.8734 - val_loss: 2.9707 - val_accuracy: 0.3143\n",
      "Epoch 81/130\n",
      "39/39 [==============================] - 2s 62ms/step - loss: 0.3566 - accuracy: 0.8851 - val_loss: 2.8551 - val_accuracy: 0.3061\n",
      "Epoch 82/130\n",
      "39/39 [==============================] - 2s 62ms/step - loss: 0.3393 - accuracy: 0.8999 - val_loss: 2.9771 - val_accuracy: 0.2755\n",
      "Epoch 83/130\n",
      "39/39 [==============================] - 2s 60ms/step - loss: 0.3168 - accuracy: 0.9094 - val_loss: 2.7296 - val_accuracy: 0.3041\n",
      "Epoch 84/130\n",
      "39/39 [==============================] - 2s 62ms/step - loss: 0.2998 - accuracy: 0.9224 - val_loss: 2.7752 - val_accuracy: 0.3204\n",
      "Epoch 85/130\n",
      "39/39 [==============================] - 2s 61ms/step - loss: 0.2816 - accuracy: 0.9306 - val_loss: 2.6634 - val_accuracy: 0.3143\n",
      "Epoch 86/130\n",
      "39/39 [==============================] - 2s 62ms/step - loss: 0.2836 - accuracy: 0.9254 - val_loss: 2.9291 - val_accuracy: 0.3041\n",
      "Epoch 87/130\n",
      "39/39 [==============================] - 2s 62ms/step - loss: 0.2943 - accuracy: 0.9137 - val_loss: 2.8828 - val_accuracy: 0.3306\n",
      "Epoch 88/130\n",
      "39/39 [==============================] - 2s 61ms/step - loss: 0.3094 - accuracy: 0.8994 - val_loss: 2.8136 - val_accuracy: 0.3082\n",
      "Epoch 89/130\n",
      "39/39 [==============================] - 2s 62ms/step - loss: 0.2741 - accuracy: 0.9280 - val_loss: 2.8223 - val_accuracy: 0.2939\n",
      "Epoch 90/130\n",
      "39/39 [==============================] - 2s 61ms/step - loss: 0.2927 - accuracy: 0.9103 - val_loss: 3.4023 - val_accuracy: 0.3082\n",
      "Epoch 91/130\n",
      "39/39 [==============================] - 2s 61ms/step - loss: 0.2735 - accuracy: 0.9250 - val_loss: 2.8363 - val_accuracy: 0.3224\n",
      "Epoch 92/130\n",
      "39/39 [==============================] - 2s 60ms/step - loss: 0.2654 - accuracy: 0.9194 - val_loss: 2.7842 - val_accuracy: 0.3531\n",
      "Epoch 93/130\n",
      "39/39 [==============================] - 2s 62ms/step - loss: 0.2402 - accuracy: 0.9384 - val_loss: 2.9115 - val_accuracy: 0.3163\n",
      "Epoch 94/130\n",
      "39/39 [==============================] - 2s 61ms/step - loss: 0.3092 - accuracy: 0.9103 - val_loss: 2.9922 - val_accuracy: 0.3143\n",
      "Epoch 95/130\n",
      "39/39 [==============================] - 2s 60ms/step - loss: 0.2350 - accuracy: 0.9367 - val_loss: 2.9928 - val_accuracy: 0.3143\n",
      "Epoch 96/130\n",
      "39/39 [==============================] - 2s 63ms/step - loss: 0.2384 - accuracy: 0.9423 - val_loss: 2.9880 - val_accuracy: 0.3306\n",
      "Epoch 97/130\n",
      "39/39 [==============================] - 2s 62ms/step - loss: 0.2166 - accuracy: 0.9432 - val_loss: 3.0167 - val_accuracy: 0.3245\n",
      "Epoch 98/130\n",
      "39/39 [==============================] - 2s 61ms/step - loss: 0.4486 - accuracy: 0.8635 - val_loss: 3.1368 - val_accuracy: 0.3245\n",
      "Epoch 99/130\n",
      "39/39 [==============================] - 2s 61ms/step - loss: 0.2900 - accuracy: 0.9068 - val_loss: 3.0896 - val_accuracy: 0.3245\n",
      "Epoch 100/130\n",
      "39/39 [==============================] - 2s 62ms/step - loss: 0.2079 - accuracy: 0.9502 - val_loss: 2.9760 - val_accuracy: 0.3082\n",
      "Epoch 101/130\n",
      "39/39 [==============================] - 2s 63ms/step - loss: 0.2657 - accuracy: 0.9124 - val_loss: 3.2350 - val_accuracy: 0.3306\n",
      "Epoch 102/130\n",
      "39/39 [==============================] - 2s 61ms/step - loss: 0.2157 - accuracy: 0.9428 - val_loss: 2.9225 - val_accuracy: 0.3469\n",
      "Epoch 103/130\n",
      "39/39 [==============================] - 2s 61ms/step - loss: 0.1945 - accuracy: 0.9584 - val_loss: 2.8800 - val_accuracy: 0.3531\n",
      "Epoch 104/130\n",
      "39/39 [==============================] - 2s 62ms/step - loss: 0.1979 - accuracy: 0.9549 - val_loss: 3.0847 - val_accuracy: 0.3408\n",
      "Epoch 105/130\n",
      "39/39 [==============================] - 2s 60ms/step - loss: 0.2573 - accuracy: 0.9250 - val_loss: 3.2988 - val_accuracy: 0.3286\n",
      "Epoch 106/130\n",
      "39/39 [==============================] - 2s 62ms/step - loss: 0.2128 - accuracy: 0.9436 - val_loss: 3.2451 - val_accuracy: 0.3061\n",
      "Epoch 107/130\n",
      "39/39 [==============================] - 2s 61ms/step - loss: 0.1976 - accuracy: 0.9471 - val_loss: 3.0033 - val_accuracy: 0.3612\n",
      "Epoch 108/130\n",
      "39/39 [==============================] - 2s 62ms/step - loss: 0.2518 - accuracy: 0.9224 - val_loss: 3.0696 - val_accuracy: 0.3429\n",
      "Epoch 109/130\n",
      "39/39 [==============================] - 2s 61ms/step - loss: 0.1918 - accuracy: 0.9502 - val_loss: 2.9375 - val_accuracy: 0.3429\n",
      "Epoch 110/130\n",
      "39/39 [==============================] - 2s 61ms/step - loss: 0.2102 - accuracy: 0.9380 - val_loss: 3.0753 - val_accuracy: 0.3510\n",
      "Epoch 111/130\n",
      "39/39 [==============================] - 2s 62ms/step - loss: 0.1637 - accuracy: 0.9666 - val_loss: 2.9415 - val_accuracy: 0.3551\n",
      "Epoch 112/130\n",
      "39/39 [==============================] - 2s 62ms/step - loss: 0.1846 - accuracy: 0.9510 - val_loss: 3.2581 - val_accuracy: 0.3388\n",
      "Epoch 113/130\n",
      "39/39 [==============================] - 2s 61ms/step - loss: 0.1678 - accuracy: 0.9567 - val_loss: 3.0537 - val_accuracy: 0.3449\n",
      "Epoch 114/130\n",
      "39/39 [==============================] - 2s 61ms/step - loss: 0.1810 - accuracy: 0.9523 - val_loss: 3.4752 - val_accuracy: 0.3306\n",
      "Epoch 115/130\n",
      "39/39 [==============================] - 2s 61ms/step - loss: 0.1570 - accuracy: 0.9619 - val_loss: 3.5076 - val_accuracy: 0.3286\n",
      "Epoch 116/130\n",
      "39/39 [==============================] - 2s 61ms/step - loss: 0.1932 - accuracy: 0.9423 - val_loss: 3.4104 - val_accuracy: 0.3327\n",
      "Epoch 117/130\n",
      "39/39 [==============================] - 2s 64ms/step - loss: 0.1383 - accuracy: 0.9671 - val_loss: 3.2853 - val_accuracy: 0.3367\n",
      "Epoch 118/130\n",
      "39/39 [==============================] - 2s 62ms/step - loss: 0.2703 - accuracy: 0.9150 - val_loss: 3.4765 - val_accuracy: 0.3347\n",
      "Epoch 119/130\n",
      "39/39 [==============================] - 2s 59ms/step - loss: 0.1620 - accuracy: 0.9554 - val_loss: 3.2996 - val_accuracy: 0.3306\n",
      "Epoch 120/130\n",
      "39/39 [==============================] - 2s 61ms/step - loss: 0.1246 - accuracy: 0.9783 - val_loss: 3.2316 - val_accuracy: 0.3429\n",
      "Epoch 121/130\n",
      "39/39 [==============================] - 2s 60ms/step - loss: 0.1227 - accuracy: 0.9766 - val_loss: 3.2218 - val_accuracy: 0.3510\n",
      "Epoch 122/130\n",
      "39/39 [==============================] - 2s 60ms/step - loss: 0.1165 - accuracy: 0.9796 - val_loss: 3.4236 - val_accuracy: 0.3612\n",
      "Epoch 123/130\n",
      "39/39 [==============================] - 2s 58ms/step - loss: 0.1866 - accuracy: 0.9450 - val_loss: 3.4153 - val_accuracy: 0.3449\n",
      "Epoch 124/130\n",
      "39/39 [==============================] - 2s 61ms/step - loss: 0.1168 - accuracy: 0.9727 - val_loss: 3.4339 - val_accuracy: 0.3571\n",
      "Epoch 125/130\n",
      "39/39 [==============================] - 2s 61ms/step - loss: 0.1140 - accuracy: 0.9770 - val_loss: 3.4376 - val_accuracy: 0.3633\n",
      "Epoch 126/130\n",
      "39/39 [==============================] - 2s 59ms/step - loss: 0.0959 - accuracy: 0.9848 - val_loss: 3.5097 - val_accuracy: 0.3531\n",
      "Epoch 127/130\n",
      "39/39 [==============================] - 2s 60ms/step - loss: 0.0974 - accuracy: 0.9822 - val_loss: 3.5823 - val_accuracy: 0.3490\n",
      "Epoch 128/130\n",
      "39/39 [==============================] - 2s 59ms/step - loss: 0.0909 - accuracy: 0.9831 - val_loss: 3.4452 - val_accuracy: 0.3429\n",
      "Epoch 129/130\n",
      "39/39 [==============================] - 2s 60ms/step - loss: 0.0871 - accuracy: 0.9866 - val_loss: 3.6601 - val_accuracy: 0.3429\n",
      "Epoch 130/130\n",
      "39/39 [==============================] - 2s 60ms/step - loss: 0.0852 - accuracy: 0.9887 - val_loss: 3.5368 - val_accuracy: 0.3510\n"
     ]
    }
   ],
   "source": [
    "feature_fusion_train = feature_fusion_model.fit(\n",
    "    combined_train_generator,\n",
    "    steps_per_epoch=39,\n",
    "    epochs=130,\n",
    "    validation_data=combined_valid_generator,\n",
    "    validation_steps=8\n",
    ")"
   ]
  },
  {
   "cell_type": "markdown",
   "metadata": {},
   "source": [
    "Plotting training and validation accuracy"
   ]
  },
  {
   "cell_type": "code",
   "execution_count": 30,
   "metadata": {},
   "outputs": [
    {
     "name": "stdout",
     "output_type": "stream",
     "text": [
      "Training: 0.9887299537658691\n",
      "Validation: 0.3510203957557678\n"
     ]
    },
    {
     "data": {
      "image/png": "[encoded data removed]",
      "text/plain": [
       "<Figure size 640x480 with 1 Axes>"
      ]
     },
     "metadata": {},
     "output_type": "display_data"
    }
   ],
   "source": [
    "print(\"Training:\", feature_fusion_train.history['accuracy'][-1])\n",
    "print(\"Validation:\", feature_fusion_train.history['val_accuracy'][-1])\n",
    "\n",
    "plt.plot(feature_fusion_train.history['accuracy'], label='Training Accuracy')\n",
    "plt.plot(feature_fusion_train.history['val_accuracy'], label='Validation Accuracy')\n",
    "plt.xlabel('Epoch')\n",
    "plt.ylabel('Accuracy')\n",
    "plt.legend()\n",
    "plt.show()"
   ]
  },
  {
   "cell_type": "markdown",
   "metadata": {},
   "source": [
    "# Save The Model & Weight"
   ]
  },
  {
   "cell_type": "code",
   "execution_count": 33,
   "metadata": {},
   "outputs": [],
   "source": [
    "import os\n",
    "\n",
    "model_folder = 'model'\n",
    "if not os.path.exists(model_folder):\n",
    "    os.makedirs(model_folder)\n",
    "\n",
    "final_training_accuracy = feature_fusion_train.history['accuracy'][-1]\n",
    "\n",
    "accuracy_percentage = round(final_training_accuracy * 100)\n",
    "\n",
    "model_json = feature_fusion_model.to_json()\n",
    "json_filename = f\"{model_folder}/emotion_model_{accuracy_percentage}%.json\"\n",
    "with open(json_filename, \"w\") as json_file:\n",
    "    json_file.write(model_json)\n",
    "\n",
    "weights_filename = f\"{model_folder}/emotion_model_{accuracy_percentage}%.h5\"\n",
    "feature_fusion_model.save_weights(weights_filename)"
   ]
  }
 ],
 "metadata": {
  "kernelspec": {
   "display_name": "ml",
   "language": "python",
   "name": "python3"
  },
  "language_info": {
   "codemirror_mode": {
    "name": "ipython",
    "version": 3
   },
   "file_extension": ".py",
   "mimetype": "text/x-python",
   "name": "python",
   "nbconvert_exporter": "python",
   "pygments_lexer": "ipython3",
   "version": "3.9.18"
  }
 },
 "nbformat": 4,
 "nbformat_minor": 2
}
